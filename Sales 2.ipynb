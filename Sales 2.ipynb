{
 "cells": [
  {
   "cell_type": "code",
   "execution_count": 1,
   "metadata": {},
   "outputs": [],
   "source": [
    "import pandas as pd\n",
    "import seaborn as sns\n",
    "import re"
   ]
  },
  {
   "cell_type": "code",
   "execution_count": 145,
   "metadata": {},
   "outputs": [],
   "source": [
    "import math"
   ]
  },
  {
   "cell_type": "code",
   "execution_count": 169,
   "metadata": {},
   "outputs": [],
   "source": [
    "sales= pd.read_excel('D:\\Downloads\\Sales.xlsx')"
   ]
  },
  {
   "cell_type": "code",
   "execution_count": 170,
   "metadata": {},
   "outputs": [
    {
     "data": {
      "text/html": [
       "<div>\n",
       "<style scoped>\n",
       "    .dataframe tbody tr th:only-of-type {\n",
       "        vertical-align: middle;\n",
       "    }\n",
       "\n",
       "    .dataframe tbody tr th {\n",
       "        vertical-align: top;\n",
       "    }\n",
       "\n",
       "    .dataframe thead th {\n",
       "        text-align: right;\n",
       "    }\n",
       "</style>\n",
       "<table border=\"1\" class=\"dataframe\">\n",
       "  <thead>\n",
       "    <tr style=\"text-align: right;\">\n",
       "      <th>1</th>\n",
       "      <th>index</th>\n",
       "      <th>Timestamp</th>\n",
       "      <th>Select City</th>\n",
       "      <th>Meeting Date and Time</th>\n",
       "      <th>Lead Name</th>\n",
       "      <th>Lead Available</th>\n",
       "      <th>Meeting Re-schedule Date and Time</th>\n",
       "      <th>Lead Interested ...?</th>\n",
       "      <th>Source</th>\n",
       "      <th>Follow-Up Date and Time</th>\n",
       "      <th>...</th>\n",
       "      <th>Project Type</th>\n",
       "      <th>Project Load Capacity</th>\n",
       "      <th>Quotation Proposed</th>\n",
       "      <th>Quotation..?</th>\n",
       "      <th>Any Additional Commitment</th>\n",
       "      <th>Does Project Confirmed ?</th>\n",
       "      <th>Any follow-up required..?</th>\n",
       "      <th>Source</th>\n",
       "      <th>Reason for Denial</th>\n",
       "      <th>Please mention the highlights of the Meetings</th>\n",
       "    </tr>\n",
       "  </thead>\n",
       "  <tbody>\n",
       "    <tr>\n",
       "      <td>0</td>\n",
       "      <td>2</td>\n",
       "      <td>2019/11/01 3:58:57 PM GMT+5:30</td>\n",
       "      <td>Jaipur</td>\n",
       "      <td>2019-11-01 13:40:00</td>\n",
       "      <td>Nirmal mehta ji</td>\n",
       "      <td>Yes</td>\n",
       "      <td>NaN</td>\n",
       "      <td>Yes</td>\n",
       "      <td>NaN</td>\n",
       "      <td>NaN</td>\n",
       "      <td>...</td>\n",
       "      <td>On-Grid</td>\n",
       "      <td>11</td>\n",
       "      <td>45</td>\n",
       "      <td>Excluding GST</td>\n",
       "      <td>NaN</td>\n",
       "      <td>NaN</td>\n",
       "      <td>NaN</td>\n",
       "      <td>NaN</td>\n",
       "      <td>NaN</td>\n",
       "      <td>Final meeting after subsidy confirm from rrecl</td>\n",
       "    </tr>\n",
       "    <tr>\n",
       "      <td>1</td>\n",
       "      <td>3</td>\n",
       "      <td>2019/11/05 4:34:02 PM GMT+5:30</td>\n",
       "      <td>Indore</td>\n",
       "      <td>2019-11-05 16:00:00</td>\n",
       "      <td>Rajesh Chauhan</td>\n",
       "      <td>Yes</td>\n",
       "      <td>NaN</td>\n",
       "      <td>Yes, But Later</td>\n",
       "      <td>Peacock Solar Telemarketing</td>\n",
       "      <td>2019-11-11 11:00:00</td>\n",
       "      <td>...</td>\n",
       "      <td>NaN</td>\n",
       "      <td>NaN</td>\n",
       "      <td>NaN</td>\n",
       "      <td>NaN</td>\n",
       "      <td>NaN</td>\n",
       "      <td>NaN</td>\n",
       "      <td>NaN</td>\n",
       "      <td>NaN</td>\n",
       "      <td>NaN</td>\n",
       "      <td>Need to Call and Check for the Meeting.</td>\n",
       "    </tr>\n",
       "    <tr>\n",
       "      <td>2</td>\n",
       "      <td>4</td>\n",
       "      <td>2019/11/06 11:35:50 AM GMT+5:30</td>\n",
       "      <td>Indore</td>\n",
       "      <td>2019-11-06 11:00:00</td>\n",
       "      <td>Ashok Vishwakarma</td>\n",
       "      <td>No</td>\n",
       "      <td>2019-11-12 10:00:00</td>\n",
       "      <td>NaN</td>\n",
       "      <td>NaN</td>\n",
       "      <td>NaN</td>\n",
       "      <td>...</td>\n",
       "      <td>NaN</td>\n",
       "      <td>NaN</td>\n",
       "      <td>NaN</td>\n",
       "      <td>NaN</td>\n",
       "      <td>NaN</td>\n",
       "      <td>NaN</td>\n",
       "      <td>NaN</td>\n",
       "      <td>NaN</td>\n",
       "      <td>NaN</td>\n",
       "      <td>NaN</td>\n",
       "    </tr>\n",
       "  </tbody>\n",
       "</table>\n",
       "<p>3 rows × 30 columns</p>\n",
       "</div>"
      ],
      "text/plain": [
       "1  index                        Timestamp Select City Meeting Date and Time  \\\n",
       "0      2   2019/11/01 3:58:57 PM GMT+5:30      Jaipur   2019-11-01 13:40:00   \n",
       "1      3   2019/11/05 4:34:02 PM GMT+5:30      Indore   2019-11-05 16:00:00   \n",
       "2      4  2019/11/06 11:35:50 AM GMT+5:30      Indore   2019-11-06 11:00:00   \n",
       "\n",
       "1          Lead Name Lead Available Meeting Re-schedule Date and Time  \\\n",
       "0    Nirmal mehta ji            Yes                               NaN   \n",
       "1     Rajesh Chauhan            Yes                               NaN   \n",
       "2  Ashok Vishwakarma             No               2019-11-12 10:00:00   \n",
       "\n",
       "1 Lead Interested ...?                       Source Follow-Up Date and Time  \\\n",
       "0                  Yes                          NaN                     NaN   \n",
       "1       Yes, But Later  Peacock Solar Telemarketing     2019-11-11 11:00:00   \n",
       "2                  NaN                          NaN                     NaN   \n",
       "\n",
       "1  ... Project Type Project Load Capacity Quotation Proposed   Quotation..?  \\\n",
       "0  ...      On-Grid                    11                 45  Excluding GST   \n",
       "1  ...          NaN                   NaN                NaN            NaN   \n",
       "2  ...          NaN                   NaN                NaN            NaN   \n",
       "\n",
       "1 Any Additional Commitment Does Project Confirmed ?  \\\n",
       "0                       NaN                      NaN   \n",
       "1                       NaN                      NaN   \n",
       "2                       NaN                      NaN   \n",
       "\n",
       "1 Any follow-up required..? Source Reason for Denial  \\\n",
       "0                       NaN    NaN               NaN   \n",
       "1                       NaN    NaN               NaN   \n",
       "2                       NaN    NaN               NaN   \n",
       "\n",
       "1   Please mention the highlights of the Meetings  \n",
       "0  Final meeting after subsidy confirm from rrecl  \n",
       "1         Need to Call and Check for the Meeting.  \n",
       "2                                             NaN  \n",
       "\n",
       "[3 rows x 30 columns]"
      ]
     },
     "execution_count": 170,
     "metadata": {},
     "output_type": "execute_result"
    }
   ],
   "source": [
    "sales.drop(sales.index[0],inplace=True)\n",
    "sales.columns = sales.iloc[0]\n",
    "sales.drop(sales.index[0],inplace=True)\n",
    "sales.reset_index(inplace=True)\n",
    "sales.head(3)"
   ]
  },
  {
   "cell_type": "code",
   "execution_count": 12,
   "metadata": {},
   "outputs": [],
   "source": [
    "sale0= sales[sales['Lead Interested ...?'].notna()]"
   ]
  },
  {
   "cell_type": "code",
   "execution_count": 13,
   "metadata": {},
   "outputs": [
    {
     "name": "stderr",
     "output_type": "stream",
     "text": [
      "D:\\Python\\lib\\site-packages\\ipykernel_launcher.py:1: SettingWithCopyWarning: \n",
      "A value is trying to be set on a copy of a slice from a DataFrame.\n",
      "Try using .loc[row_indexer,col_indexer] = value instead\n",
      "\n",
      "See the caveats in the documentation: http://pandas.pydata.org/pandas-docs/stable/user_guide/indexing.html#returning-a-view-versus-a-copy\n",
      "  \"\"\"Entry point for launching an IPython kernel.\n"
     ]
    }
   ],
   "source": [
    "sale0['Lead Interested ...?']= sale0['Lead Interested ...?'].replace('Yes, But Later', 'No')"
   ]
  },
  {
   "cell_type": "code",
   "execution_count": 14,
   "metadata": {},
   "outputs": [],
   "source": [
    "from sklearn.preprocessing import LabelEncoder\n",
    "labelencoder= LabelEncoder()"
   ]
  },
  {
   "cell_type": "code",
   "execution_count": 15,
   "metadata": {},
   "outputs": [
    {
     "name": "stderr",
     "output_type": "stream",
     "text": [
      "D:\\Python\\lib\\site-packages\\ipykernel_launcher.py:1: SettingWithCopyWarning: \n",
      "A value is trying to be set on a copy of a slice from a DataFrame.\n",
      "Try using .loc[row_indexer,col_indexer] = value instead\n",
      "\n",
      "See the caveats in the documentation: http://pandas.pydata.org/pandas-docs/stable/user_guide/indexing.html#returning-a-view-versus-a-copy\n",
      "  \"\"\"Entry point for launching an IPython kernel.\n"
     ]
    },
    {
     "data": {
      "text/html": [
       "<div>\n",
       "<style scoped>\n",
       "    .dataframe tbody tr th:only-of-type {\n",
       "        vertical-align: middle;\n",
       "    }\n",
       "\n",
       "    .dataframe tbody tr th {\n",
       "        vertical-align: top;\n",
       "    }\n",
       "\n",
       "    .dataframe thead th {\n",
       "        text-align: right;\n",
       "    }\n",
       "</style>\n",
       "<table border=\"1\" class=\"dataframe\">\n",
       "  <thead>\n",
       "    <tr style=\"text-align: right;\">\n",
       "      <th>1</th>\n",
       "      <th>Lead Interested ...?</th>\n",
       "    </tr>\n",
       "    <tr>\n",
       "      <th>Select City</th>\n",
       "      <th></th>\n",
       "    </tr>\n",
       "  </thead>\n",
       "  <tbody>\n",
       "    <tr>\n",
       "      <td>Indore</td>\n",
       "      <td>0.085106</td>\n",
       "    </tr>\n",
       "    <tr>\n",
       "      <td>Jaipur</td>\n",
       "      <td>0.186047</td>\n",
       "    </tr>\n",
       "    <tr>\n",
       "      <td>Kota</td>\n",
       "      <td>1.000000</td>\n",
       "    </tr>\n",
       "  </tbody>\n",
       "</table>\n",
       "</div>"
      ],
      "text/plain": [
       "1            Lead Interested ...?\n",
       "Select City                      \n",
       "Indore                   0.085106\n",
       "Jaipur                   0.186047\n",
       "Kota                     1.000000"
      ]
     },
     "execution_count": 15,
     "metadata": {},
     "output_type": "execute_result"
    }
   ],
   "source": [
    "sale0['Lead Interested ...?']= labelencoder.fit_transform(sale0['Lead Interested ...?'])\n",
    "pd.pivot_table(sale0,index=['Select City'],values='Lead Interested ...?')"
   ]
  },
  {
   "cell_type": "code",
   "execution_count": 16,
   "metadata": {},
   "outputs": [],
   "source": [
    "sale0.reset_index(drop=True,inplace=True)"
   ]
  },
  {
   "cell_type": "code",
   "execution_count": 53,
   "metadata": {},
   "outputs": [],
   "source": [
    "for j in range(len(sale0['Lead Name'])):\n",
    "    if re.search('Hospital|chool|estaurant|bhawan|heritage|company|home|ducation|hotel|Hotel|dental|hospital|group|sweets|Ambey|arketing|arden|esort|engineering|guest|home|tailors|motors|chaya|vilas|boys|event|Hall|hall|market|academy|ostel|matra|fruit',sale0['Lead Name'][j]):\n",
    "        sale0.loc[j,'Lead Name']= 'Organization'"
   ]
  },
  {
   "cell_type": "code",
   "execution_count": 55,
   "metadata": {},
   "outputs": [],
   "source": [
    "for i in range(len(sale0['Lead Name'])):\n",
    "    if re.search('^(?!Organization).*',sale0['Lead Name'][i]):\n",
    "        sale0.loc[i,'Lead Name']= 'Person'"
   ]
  },
  {
   "cell_type": "code",
   "execution_count": 57,
   "metadata": {},
   "outputs": [
    {
     "data": {
      "text/html": [
       "<div>\n",
       "<style scoped>\n",
       "    .dataframe tbody tr th:only-of-type {\n",
       "        vertical-align: middle;\n",
       "    }\n",
       "\n",
       "    .dataframe tbody tr th {\n",
       "        vertical-align: top;\n",
       "    }\n",
       "\n",
       "    .dataframe thead th {\n",
       "        text-align: right;\n",
       "    }\n",
       "</style>\n",
       "<table border=\"1\" class=\"dataframe\">\n",
       "  <thead>\n",
       "    <tr style=\"text-align: right;\">\n",
       "      <th>1</th>\n",
       "      <th>Lead Interested ...?</th>\n",
       "    </tr>\n",
       "    <tr>\n",
       "      <th>Lead Name</th>\n",
       "      <th></th>\n",
       "    </tr>\n",
       "  </thead>\n",
       "  <tbody>\n",
       "    <tr>\n",
       "      <td>Organization</td>\n",
       "      <td>0.205882</td>\n",
       "    </tr>\n",
       "    <tr>\n",
       "      <td>Person</td>\n",
       "      <td>0.190476</td>\n",
       "    </tr>\n",
       "  </tbody>\n",
       "</table>\n",
       "</div>"
      ],
      "text/plain": [
       "1             Lead Interested ...?\n",
       "Lead Name                         \n",
       "Organization              0.205882\n",
       "Person                    0.190476"
      ]
     },
     "execution_count": 57,
     "metadata": {},
     "output_type": "execute_result"
    }
   ],
   "source": [
    "pd.pivot_table(sale0,index=['Lead Name'],values='Lead Interested ...?')"
   ]
  },
  {
   "cell_type": "code",
   "execution_count": 21,
   "metadata": {},
   "outputs": [],
   "source": [
    "sale= sales.copy()\n",
    "import datetime\n",
    "sale['Time']= sale['Meeting Date and Time'].dt.strftime(\"%H:%M:%S\")"
   ]
  },
  {
   "cell_type": "code",
   "execution_count": 59,
   "metadata": {},
   "outputs": [],
   "source": [
    "for i in range(len(sale['Time'])):\n",
    "    if re.search('\\A(10|11|12|13|14)',sale['Time'][i]):\n",
    "        sale.loc[i,'Time']= 'Afternoon'"
   ]
  },
  {
   "cell_type": "code",
   "execution_count": 60,
   "metadata": {},
   "outputs": [],
   "source": [
    "for i in range(len(sale['Time'])):\n",
    "    if re.search('\\A(15|16|17|18)',sale['Time'][i]):\n",
    "        sale.loc[i,'Time']= 'Evening'"
   ]
  },
  {
   "cell_type": "code",
   "execution_count": 61,
   "metadata": {},
   "outputs": [],
   "source": [
    "for i in range(len(sale['Time'])):\n",
    "    if re.search('\\A(19|20|21|22|23|00|01|02|03)',sale['Time'][i]):\n",
    "        sale.loc[i,'Time']= 'Night'"
   ]
  },
  {
   "cell_type": "code",
   "execution_count": 62,
   "metadata": {},
   "outputs": [],
   "source": [
    "for i in range(len(sale['Time'])):\n",
    "    if re.search('\\A(04|05|06|07|08|09)',sale['Time'][i]):\n",
    "        sale.loc[i,'Time']= 'Early Morning'"
   ]
  },
  {
   "cell_type": "code",
   "execution_count": 63,
   "metadata": {},
   "outputs": [],
   "source": [
    "sale['Lead Available']= labelencoder.fit_transform(sale['Lead Available'])"
   ]
  },
  {
   "cell_type": "code",
   "execution_count": 64,
   "metadata": {},
   "outputs": [
    {
     "data": {
      "text/html": [
       "<div>\n",
       "<style scoped>\n",
       "    .dataframe tbody tr th:only-of-type {\n",
       "        vertical-align: middle;\n",
       "    }\n",
       "\n",
       "    .dataframe tbody tr th {\n",
       "        vertical-align: top;\n",
       "    }\n",
       "\n",
       "    .dataframe thead th {\n",
       "        text-align: right;\n",
       "    }\n",
       "</style>\n",
       "<table border=\"1\" class=\"dataframe\">\n",
       "  <thead>\n",
       "    <tr style=\"text-align: right;\">\n",
       "      <th>1</th>\n",
       "      <th>Lead Available</th>\n",
       "    </tr>\n",
       "    <tr>\n",
       "      <th>Time</th>\n",
       "      <th></th>\n",
       "    </tr>\n",
       "  </thead>\n",
       "  <tbody>\n",
       "    <tr>\n",
       "      <td>Afternoon</td>\n",
       "      <td>0.754098</td>\n",
       "    </tr>\n",
       "    <tr>\n",
       "      <td>Early Morning</td>\n",
       "      <td>0.894737</td>\n",
       "    </tr>\n",
       "    <tr>\n",
       "      <td>Evening</td>\n",
       "      <td>0.791667</td>\n",
       "    </tr>\n",
       "    <tr>\n",
       "      <td>Night</td>\n",
       "      <td>0.937500</td>\n",
       "    </tr>\n",
       "  </tbody>\n",
       "</table>\n",
       "</div>"
      ],
      "text/plain": [
       "1              Lead Available\n",
       "Time                         \n",
       "Afternoon            0.754098\n",
       "Early Morning        0.894737\n",
       "Evening              0.791667\n",
       "Night                0.937500"
      ]
     },
     "execution_count": 64,
     "metadata": {},
     "output_type": "execute_result"
    }
   ],
   "source": [
    "pd.pivot_table(sale,index=['Time'],values='Lead Available')"
   ]
  },
  {
   "cell_type": "code",
   "execution_count": 65,
   "metadata": {},
   "outputs": [],
   "source": [
    "sale2= sales[sales['Lead Occupation'].notna()]"
   ]
  },
  {
   "cell_type": "code",
   "execution_count": 67,
   "metadata": {},
   "outputs": [],
   "source": [
    "import numpy as np"
   ]
  },
  {
   "cell_type": "code",
   "execution_count": 94,
   "metadata": {},
   "outputs": [
    {
     "data": {
      "text/plain": [
       "<seaborn.axisgrid.FacetGrid at 0x2549e9af048>"
      ]
     },
     "execution_count": 94,
     "metadata": {},
     "output_type": "execute_result"
    },
    {
     "data": {
      "image/png": "[encoded data removed]",
      "text/plain": [
       "<Figure size 360x360 with 1 Axes>"
      ]
     },
     "metadata": {
      "needs_background": "light"
     },
     "output_type": "display_data"
    }
   ],
   "source": [
    "sns.catplot(x='How much lead is interested for Solar Installation',y='Lead Average Monthly Electricity Bill',kind='strip',data=sale2)"
   ]
  },
  {
   "cell_type": "code",
   "execution_count": 90,
   "metadata": {},
   "outputs": [
    {
     "name": "stderr",
     "output_type": "stream",
     "text": [
      "D:\\Python\\lib\\site-packages\\ipykernel_launcher.py:1: SettingWithCopyWarning: \n",
      "A value is trying to be set on a copy of a slice from a DataFrame.\n",
      "Try using .loc[row_indexer,col_indexer] = value instead\n",
      "\n",
      "See the caveats in the documentation: http://pandas.pydata.org/pandas-docs/stable/user_guide/indexing.html#returning-a-view-versus-a-copy\n",
      "  \"\"\"Entry point for launching an IPython kernel.\n"
     ]
    }
   ],
   "source": [
    "sale2['Lead Average Monthly Electricity Bill']= sale2['Lead Average Monthly Electricity Bill'].astype(int)"
   ]
  },
  {
   "cell_type": "code",
   "execution_count": 91,
   "metadata": {},
   "outputs": [
    {
     "data": {
      "text/plain": [
       "dtype('int32')"
      ]
     },
     "execution_count": 91,
     "metadata": {},
     "output_type": "execute_result"
    }
   ],
   "source": [
    "sale2['Lead Average Monthly Electricity Bill'].dtype"
   ]
  },
  {
   "cell_type": "code",
   "execution_count": 93,
   "metadata": {},
   "outputs": [
    {
     "data": {
      "text/html": [
       "<div>\n",
       "<style scoped>\n",
       "    .dataframe tbody tr th:only-of-type {\n",
       "        vertical-align: middle;\n",
       "    }\n",
       "\n",
       "    .dataframe tbody tr th {\n",
       "        vertical-align: top;\n",
       "    }\n",
       "\n",
       "    .dataframe thead th {\n",
       "        text-align: right;\n",
       "    }\n",
       "</style>\n",
       "<table border=\"1\" class=\"dataframe\">\n",
       "  <thead>\n",
       "    <tr style=\"text-align: right;\">\n",
       "      <th>1</th>\n",
       "      <th>Lead Average Monthly Electricity Bill</th>\n",
       "    </tr>\n",
       "    <tr>\n",
       "      <th>How much lead is interested for Solar Installation</th>\n",
       "      <th></th>\n",
       "    </tr>\n",
       "  </thead>\n",
       "  <tbody>\n",
       "    <tr>\n",
       "      <td>Least Likely ( Less than 40% )</td>\n",
       "      <td>9000</td>\n",
       "    </tr>\n",
       "    <tr>\n",
       "      <td>Likely (Between 40% - 80% )</td>\n",
       "      <td>12000</td>\n",
       "    </tr>\n",
       "    <tr>\n",
       "      <td>Most Likely ( More than 80% )</td>\n",
       "      <td>8500</td>\n",
       "    </tr>\n",
       "  </tbody>\n",
       "</table>\n",
       "</div>"
      ],
      "text/plain": [
       "1                                                   Lead Average Monthly Electricity Bill\n",
       "How much lead is interested for Solar Installation                                       \n",
       "Least Likely ( Less than 40% )                                                       9000\n",
       "Likely (Between 40% - 80% )                                                         12000\n",
       "Most Likely ( More than 80% )                                                        8500"
      ]
     },
     "execution_count": 93,
     "metadata": {},
     "output_type": "execute_result"
    }
   ],
   "source": [
    "pd.pivot_table(sale2,index=['How much lead is interested for Solar Installation'],values='Lead Average Monthly Electricity Bill',aggfunc= np.median)"
   ]
  },
  {
   "cell_type": "code",
   "execution_count": 202,
   "metadata": {},
   "outputs": [
    {
     "name": "stderr",
     "output_type": "stream",
     "text": [
      "D:\\Python\\lib\\site-packages\\ipykernel_launcher.py:1: SettingWithCopyWarning: \n",
      "A value is trying to be set on a copy of a slice from a DataFrame.\n",
      "Try using .loc[row_indexer,col_indexer] = value instead\n",
      "\n",
      "See the caveats in the documentation: http://pandas.pydata.org/pandas-docs/stable/user_guide/indexing.html#returning-a-view-versus-a-copy\n",
      "  \"\"\"Entry point for launching an IPython kernel.\n",
      "D:\\Python\\lib\\site-packages\\ipykernel_launcher.py:2: SettingWithCopyWarning: \n",
      "A value is trying to be set on a copy of a slice from a DataFrame.\n",
      "Try using .loc[row_indexer,col_indexer] = value instead\n",
      "\n",
      "See the caveats in the documentation: http://pandas.pydata.org/pandas-docs/stable/user_guide/indexing.html#returning-a-view-versus-a-copy\n",
      "  \n",
      "D:\\Python\\lib\\site-packages\\ipykernel_launcher.py:3: SettingWithCopyWarning: \n",
      "A value is trying to be set on a copy of a slice from a DataFrame.\n",
      "Try using .loc[row_indexer,col_indexer] = value instead\n",
      "\n",
      "See the caveats in the documentation: http://pandas.pydata.org/pandas-docs/stable/user_guide/indexing.html#returning-a-view-versus-a-copy\n",
      "  This is separate from the ipykernel package so we can avoid doing imports until\n"
     ]
    }
   ],
   "source": [
    "sale2['How much lead is interested for Solar Installation']= sale2['How much lead is interested for Solar Installation'].replace('Least Likely ( Less than 40% )','Least Likely')\n",
    "sale2['How much lead is interested for Solar Installation']= sale2['How much lead is interested for Solar Installation'].replace('Likely (Between 40% - 80% )','Likely')\n",
    "sale2['How much lead is interested for Solar Installation']= sale2['How much lead is interested for Solar Installation'].replace('Most Likely ( More than 80% )','Most Likely')"
   ]
  },
  {
   "cell_type": "code",
   "execution_count": 203,
   "metadata": {},
   "outputs": [
    {
     "data": {
      "text/plain": [
       "<seaborn.axisgrid.FacetGrid at 0x2549ee09ac8>"
      ]
     },
     "execution_count": 203,
     "metadata": {},
     "output_type": "execute_result"
    },
    {
     "data": {
      "image/png": "[encoded data removed]",
      "text/plain": [
       "<Figure size 360x360 with 1 Axes>"
      ]
     },
     "metadata": {
      "needs_background": "light"
     },
     "output_type": "display_data"
    }
   ],
   "source": [
    "sns.catplot(x='How much lead is interested for Solar Installation',y='No. of Heavy Appliances in the House',kind='strip',data=sale2)"
   ]
  },
  {
   "cell_type": "code",
   "execution_count": 96,
   "metadata": {},
   "outputs": [
    {
     "name": "stderr",
     "output_type": "stream",
     "text": [
      "D:\\Python\\lib\\site-packages\\ipykernel_launcher.py:1: SettingWithCopyWarning: \n",
      "A value is trying to be set on a copy of a slice from a DataFrame.\n",
      "Try using .loc[row_indexer,col_indexer] = value instead\n",
      "\n",
      "See the caveats in the documentation: http://pandas.pydata.org/pandas-docs/stable/user_guide/indexing.html#returning-a-view-versus-a-copy\n",
      "  \"\"\"Entry point for launching an IPython kernel.\n"
     ]
    }
   ],
   "source": [
    "sale2['No. of Heavy Appliances in the House']= sale2['No. of Heavy Appliances in the House'].astype(int)"
   ]
  },
  {
   "cell_type": "code",
   "execution_count": 97,
   "metadata": {},
   "outputs": [
    {
     "data": {
      "text/html": [
       "<div>\n",
       "<style scoped>\n",
       "    .dataframe tbody tr th:only-of-type {\n",
       "        vertical-align: middle;\n",
       "    }\n",
       "\n",
       "    .dataframe tbody tr th {\n",
       "        vertical-align: top;\n",
       "    }\n",
       "\n",
       "    .dataframe thead tr th {\n",
       "        text-align: left;\n",
       "    }\n",
       "\n",
       "    .dataframe thead tr:last-of-type th {\n",
       "        text-align: right;\n",
       "    }\n",
       "</style>\n",
       "<table border=\"1\" class=\"dataframe\">\n",
       "  <thead>\n",
       "    <tr>\n",
       "      <th></th>\n",
       "      <th>median</th>\n",
       "      <th>mean</th>\n",
       "    </tr>\n",
       "    <tr>\n",
       "      <th>1</th>\n",
       "      <th>No. of Heavy Appliances in the House</th>\n",
       "      <th>No. of Heavy Appliances in the House</th>\n",
       "    </tr>\n",
       "    <tr>\n",
       "      <th>How much lead is interested for Solar Installation</th>\n",
       "      <th></th>\n",
       "      <th></th>\n",
       "    </tr>\n",
       "  </thead>\n",
       "  <tbody>\n",
       "    <tr>\n",
       "      <td>Least Likely ( Less than 40% )</td>\n",
       "      <td>3</td>\n",
       "      <td>3.0</td>\n",
       "    </tr>\n",
       "    <tr>\n",
       "      <td>Likely (Between 40% - 80% )</td>\n",
       "      <td>4</td>\n",
       "      <td>5.0</td>\n",
       "    </tr>\n",
       "    <tr>\n",
       "      <td>Most Likely ( More than 80% )</td>\n",
       "      <td>6</td>\n",
       "      <td>9.8</td>\n",
       "    </tr>\n",
       "  </tbody>\n",
       "</table>\n",
       "</div>"
      ],
      "text/plain": [
       "                                                                                 median  \\\n",
       "1                                                  No. of Heavy Appliances in the House   \n",
       "How much lead is interested for Solar Installation                                        \n",
       "Least Likely ( Less than 40% )                                                        3   \n",
       "Likely (Between 40% - 80% )                                                           4   \n",
       "Most Likely ( More than 80% )                                                         6   \n",
       "\n",
       "                                                                                   mean  \n",
       "1                                                  No. of Heavy Appliances in the House  \n",
       "How much lead is interested for Solar Installation                                       \n",
       "Least Likely ( Less than 40% )                                                      3.0  \n",
       "Likely (Between 40% - 80% )                                                         5.0  \n",
       "Most Likely ( More than 80% )                                                       9.8  "
      ]
     },
     "execution_count": 97,
     "metadata": {},
     "output_type": "execute_result"
    }
   ],
   "source": [
    "pd.pivot_table(sale2,index=['How much lead is interested for Solar Installation'],values='No. of Heavy Appliances in the House',aggfunc= [np.median,np.mean])"
   ]
  },
  {
   "cell_type": "code",
   "execution_count": 98,
   "metadata": {},
   "outputs": [
    {
     "data": {
      "text/html": [
       "<div>\n",
       "<style scoped>\n",
       "    .dataframe tbody tr th:only-of-type {\n",
       "        vertical-align: middle;\n",
       "    }\n",
       "\n",
       "    .dataframe tbody tr th {\n",
       "        vertical-align: top;\n",
       "    }\n",
       "\n",
       "    .dataframe thead th {\n",
       "        text-align: right;\n",
       "    }\n",
       "</style>\n",
       "<table border=\"1\" class=\"dataframe\">\n",
       "  <thead>\n",
       "    <tr style=\"text-align: right;\">\n",
       "      <th>How much lead is interested for Solar Installation</th>\n",
       "      <th>Least Likely ( Less than 40% )</th>\n",
       "      <th>Likely (Between 40% - 80% )</th>\n",
       "      <th>Most Likely ( More than 80% )</th>\n",
       "      <th>All</th>\n",
       "    </tr>\n",
       "    <tr>\n",
       "      <th>Lead Occupation</th>\n",
       "      <th></th>\n",
       "      <th></th>\n",
       "      <th></th>\n",
       "      <th></th>\n",
       "    </tr>\n",
       "  </thead>\n",
       "  <tbody>\n",
       "    <tr>\n",
       "      <td>Bank manger retiered</td>\n",
       "      <td>1</td>\n",
       "      <td>0</td>\n",
       "      <td>0</td>\n",
       "      <td>1</td>\n",
       "    </tr>\n",
       "    <tr>\n",
       "      <td>Businessmen</td>\n",
       "      <td>0</td>\n",
       "      <td>3</td>\n",
       "      <td>6</td>\n",
       "      <td>9</td>\n",
       "    </tr>\n",
       "    <tr>\n",
       "      <td>Government Employee</td>\n",
       "      <td>0</td>\n",
       "      <td>3</td>\n",
       "      <td>2</td>\n",
       "      <td>5</td>\n",
       "    </tr>\n",
       "    <tr>\n",
       "      <td>Hostel owner</td>\n",
       "      <td>0</td>\n",
       "      <td>0</td>\n",
       "      <td>1</td>\n",
       "      <td>1</td>\n",
       "    </tr>\n",
       "    <tr>\n",
       "      <td>Private Job</td>\n",
       "      <td>0</td>\n",
       "      <td>2</td>\n",
       "      <td>0</td>\n",
       "      <td>2</td>\n",
       "    </tr>\n",
       "    <tr>\n",
       "      <td>Shopkeeper</td>\n",
       "      <td>0</td>\n",
       "      <td>0</td>\n",
       "      <td>1</td>\n",
       "      <td>1</td>\n",
       "    </tr>\n",
       "    <tr>\n",
       "      <td>All</td>\n",
       "      <td>1</td>\n",
       "      <td>8</td>\n",
       "      <td>10</td>\n",
       "      <td>19</td>\n",
       "    </tr>\n",
       "  </tbody>\n",
       "</table>\n",
       "</div>"
      ],
      "text/plain": [
       "How much lead is interested for Solar Installation  Least Likely ( Less than 40% )  \\\n",
       "Lead Occupation                                                                      \n",
       "Bank manger retiered                                                             1   \n",
       "Businessmen                                                                      0   \n",
       "Government Employee                                                              0   \n",
       "Hostel owner                                                                     0   \n",
       "Private Job                                                                      0   \n",
       "Shopkeeper                                                                       0   \n",
       "All                                                                              1   \n",
       "\n",
       "How much lead is interested for Solar Installation  Likely (Between 40% - 80% )  \\\n",
       "Lead Occupation                                                                   \n",
       "Bank manger retiered                                                          0   \n",
       "Businessmen                                                                   3   \n",
       "Government Employee                                                           3   \n",
       "Hostel owner                                                                  0   \n",
       "Private Job                                                                   2   \n",
       "Shopkeeper                                                                    0   \n",
       "All                                                                           8   \n",
       "\n",
       "How much lead is interested for Solar Installation  Most Likely ( More than 80% )  \\\n",
       "Lead Occupation                                                                     \n",
       "Bank manger retiered                                                            0   \n",
       "Businessmen                                                                     6   \n",
       "Government Employee                                                             2   \n",
       "Hostel owner                                                                    1   \n",
       "Private Job                                                                     0   \n",
       "Shopkeeper                                                                      1   \n",
       "All                                                                            10   \n",
       "\n",
       "How much lead is interested for Solar Installation  All  \n",
       "Lead Occupation                                          \n",
       "Bank manger retiered                                  1  \n",
       "Businessmen                                           9  \n",
       "Government Employee                                   5  \n",
       "Hostel owner                                          1  \n",
       "Private Job                                           2  \n",
       "Shopkeeper                                            1  \n",
       "All                                                  19  "
      ]
     },
     "execution_count": 98,
     "metadata": {},
     "output_type": "execute_result"
    }
   ],
   "source": [
    "pd.crosstab(sale2['Lead Occupation'],sale2['How much lead is interested for Solar Installation'],margins=True)"
   ]
  },
  {
   "cell_type": "code",
   "execution_count": 99,
   "metadata": {},
   "outputs": [
    {
     "name": "stderr",
     "output_type": "stream",
     "text": [
      "D:\\Python\\lib\\site-packages\\ipykernel_launcher.py:1: SettingWithCopyWarning: \n",
      "A value is trying to be set on a copy of a slice from a DataFrame.\n",
      "Try using .loc[row_indexer,col_indexer] = value instead\n",
      "\n",
      "See the caveats in the documentation: http://pandas.pydata.org/pandas-docs/stable/user_guide/indexing.html#returning-a-view-versus-a-copy\n",
      "  \"\"\"Entry point for launching an IPython kernel.\n"
     ]
    }
   ],
   "source": [
    "sale2['Lead having Power Backup..?']= labelencoder.fit_transform(sale2['Lead having Power Backup..?'])"
   ]
  },
  {
   "cell_type": "code",
   "execution_count": 100,
   "metadata": {},
   "outputs": [
    {
     "data": {
      "text/html": [
       "<div>\n",
       "<style scoped>\n",
       "    .dataframe tbody tr th:only-of-type {\n",
       "        vertical-align: middle;\n",
       "    }\n",
       "\n",
       "    .dataframe tbody tr th {\n",
       "        vertical-align: top;\n",
       "    }\n",
       "\n",
       "    .dataframe thead tr th {\n",
       "        text-align: left;\n",
       "    }\n",
       "\n",
       "    .dataframe thead tr:last-of-type th {\n",
       "        text-align: right;\n",
       "    }\n",
       "</style>\n",
       "<table border=\"1\" class=\"dataframe\">\n",
       "  <thead>\n",
       "    <tr>\n",
       "      <th></th>\n",
       "      <th>median</th>\n",
       "      <th>mean</th>\n",
       "    </tr>\n",
       "    <tr>\n",
       "      <th>1</th>\n",
       "      <th>Lead having Power Backup..?</th>\n",
       "      <th>Lead having Power Backup..?</th>\n",
       "    </tr>\n",
       "    <tr>\n",
       "      <th>How much lead is interested for Solar Installation</th>\n",
       "      <th></th>\n",
       "      <th></th>\n",
       "    </tr>\n",
       "  </thead>\n",
       "  <tbody>\n",
       "    <tr>\n",
       "      <td>Least Likely ( Less than 40% )</td>\n",
       "      <td>0.0</td>\n",
       "      <td>0.0</td>\n",
       "    </tr>\n",
       "    <tr>\n",
       "      <td>Likely (Between 40% - 80% )</td>\n",
       "      <td>0.5</td>\n",
       "      <td>0.5</td>\n",
       "    </tr>\n",
       "    <tr>\n",
       "      <td>Most Likely ( More than 80% )</td>\n",
       "      <td>0.5</td>\n",
       "      <td>0.5</td>\n",
       "    </tr>\n",
       "  </tbody>\n",
       "</table>\n",
       "</div>"
      ],
      "text/plain": [
       "                                                                        median  \\\n",
       "1                                                  Lead having Power Backup..?   \n",
       "How much lead is interested for Solar Installation                               \n",
       "Least Likely ( Less than 40% )                                             0.0   \n",
       "Likely (Between 40% - 80% )                                                0.5   \n",
       "Most Likely ( More than 80% )                                              0.5   \n",
       "\n",
       "                                                                          mean  \n",
       "1                                                  Lead having Power Backup..?  \n",
       "How much lead is interested for Solar Installation                              \n",
       "Least Likely ( Less than 40% )                                             0.0  \n",
       "Likely (Between 40% - 80% )                                                0.5  \n",
       "Most Likely ( More than 80% )                                              0.5  "
      ]
     },
     "execution_count": 100,
     "metadata": {},
     "output_type": "execute_result"
    }
   ],
   "source": [
    "pd.pivot_table(sale2,index=['How much lead is interested for Solar Installation'],values='Lead having Power Backup..?',aggfunc= [np.median,np.mean])"
   ]
  },
  {
   "cell_type": "code",
   "execution_count": 110,
   "metadata": {},
   "outputs": [
    {
     "data": {
      "text/html": [
       "<div>\n",
       "<style scoped>\n",
       "    .dataframe tbody tr th:only-of-type {\n",
       "        vertical-align: middle;\n",
       "    }\n",
       "\n",
       "    .dataframe tbody tr th {\n",
       "        vertical-align: top;\n",
       "    }\n",
       "\n",
       "    .dataframe thead th {\n",
       "        text-align: right;\n",
       "    }\n",
       "</style>\n",
       "<table border=\"1\" class=\"dataframe\">\n",
       "  <thead>\n",
       "    <tr style=\"text-align: right;\">\n",
       "      <th>How much lead is interested for Solar Installation</th>\n",
       "      <th>Least Likely ( Less than 40% )</th>\n",
       "      <th>Likely (Between 40% - 80% )</th>\n",
       "      <th>Most Likely ( More than 80% )</th>\n",
       "      <th>All</th>\n",
       "    </tr>\n",
       "    <tr>\n",
       "      <th>Source2</th>\n",
       "      <th></th>\n",
       "      <th></th>\n",
       "      <th></th>\n",
       "      <th></th>\n",
       "    </tr>\n",
       "  </thead>\n",
       "  <tbody>\n",
       "    <tr>\n",
       "      <td>Field</td>\n",
       "      <td>0</td>\n",
       "      <td>2</td>\n",
       "      <td>0</td>\n",
       "      <td>2</td>\n",
       "    </tr>\n",
       "    <tr>\n",
       "      <td>Homver city</td>\n",
       "      <td>0</td>\n",
       "      <td>0</td>\n",
       "      <td>1</td>\n",
       "      <td>1</td>\n",
       "    </tr>\n",
       "    <tr>\n",
       "      <td>Local</td>\n",
       "      <td>1</td>\n",
       "      <td>0</td>\n",
       "      <td>0</td>\n",
       "      <td>1</td>\n",
       "    </tr>\n",
       "    <tr>\n",
       "      <td>Peacock Solar Customer Reference</td>\n",
       "      <td>0</td>\n",
       "      <td>0</td>\n",
       "      <td>1</td>\n",
       "      <td>1</td>\n",
       "    </tr>\n",
       "    <tr>\n",
       "      <td>Peacock Solar Employee Reference</td>\n",
       "      <td>0</td>\n",
       "      <td>2</td>\n",
       "      <td>4</td>\n",
       "      <td>6</td>\n",
       "    </tr>\n",
       "    <tr>\n",
       "      <td>Peacock Solar Telemarketing</td>\n",
       "      <td>0</td>\n",
       "      <td>4</td>\n",
       "      <td>3</td>\n",
       "      <td>7</td>\n",
       "    </tr>\n",
       "    <tr>\n",
       "      <td>Social Media</td>\n",
       "      <td>0</td>\n",
       "      <td>0</td>\n",
       "      <td>1</td>\n",
       "      <td>1</td>\n",
       "    </tr>\n",
       "    <tr>\n",
       "      <td>All</td>\n",
       "      <td>1</td>\n",
       "      <td>8</td>\n",
       "      <td>10</td>\n",
       "      <td>19</td>\n",
       "    </tr>\n",
       "  </tbody>\n",
       "</table>\n",
       "</div>"
      ],
      "text/plain": [
       "How much lead is interested for Solar Installation  Least Likely ( Less than 40% )  \\\n",
       "Source2                                                                              \n",
       "Field                                                                            0   \n",
       "Homver city                                                                      0   \n",
       "Local                                                                            1   \n",
       "Peacock Solar Customer Reference                                                 0   \n",
       "Peacock Solar Employee Reference                                                 0   \n",
       "Peacock Solar Telemarketing                                                      0   \n",
       "Social Media                                                                     0   \n",
       "All                                                                              1   \n",
       "\n",
       "How much lead is interested for Solar Installation  Likely (Between 40% - 80% )  \\\n",
       "Source2                                                                           \n",
       "Field                                                                         2   \n",
       "Homver city                                                                   0   \n",
       "Local                                                                         0   \n",
       "Peacock Solar Customer Reference                                              0   \n",
       "Peacock Solar Employee Reference                                              2   \n",
       "Peacock Solar Telemarketing                                                   4   \n",
       "Social Media                                                                  0   \n",
       "All                                                                           8   \n",
       "\n",
       "How much lead is interested for Solar Installation  Most Likely ( More than 80% )  \\\n",
       "Source2                                                                             \n",
       "Field                                                                           0   \n",
       "Homver city                                                                     1   \n",
       "Local                                                                           0   \n",
       "Peacock Solar Customer Reference                                                1   \n",
       "Peacock Solar Employee Reference                                                4   \n",
       "Peacock Solar Telemarketing                                                     3   \n",
       "Social Media                                                                    1   \n",
       "All                                                                            10   \n",
       "\n",
       "How much lead is interested for Solar Installation  All  \n",
       "Source2                                                  \n",
       "Field                                                 2  \n",
       "Homver city                                           1  \n",
       "Local                                                 1  \n",
       "Peacock Solar Customer Reference                      1  \n",
       "Peacock Solar Employee Reference                      6  \n",
       "Peacock Solar Telemarketing                           7  \n",
       "Social Media                                          1  \n",
       "All                                                  19  "
      ]
     },
     "execution_count": 110,
     "metadata": {},
     "output_type": "execute_result"
    }
   ],
   "source": [
    "pd.crosstab(sale2['Source2'],sale2['How much lead is interested for Solar Installation'],margins=True)"
   ]
  },
  {
   "cell_type": "code",
   "execution_count": 109,
   "metadata": {},
   "outputs": [],
   "source": [
    "column_names= sale2.columns.values\n",
    "column_names[16]= 'Source2'\n",
    "sale2.columns= column_names"
   ]
  },
  {
   "cell_type": "code",
   "execution_count": 111,
   "metadata": {},
   "outputs": [
    {
     "data": {
      "text/plain": [
       "<seaborn.axisgrid.FacetGrid at 0x2549ec87c88>"
      ]
     },
     "execution_count": 111,
     "metadata": {},
     "output_type": "execute_result"
    },
    {
     "data": {
      "image/png": "[encoded data removed]",
      "text/plain": [
       "<Figure size 360x360 with 1 Axes>"
      ]
     },
     "metadata": {
      "needs_background": "light"
     },
     "output_type": "display_data"
    }
   ],
   "source": [
    "sns.catplot(x='How much lead is interested for Solar Installation',y='Rooftop Size',kind='strip',data=sale2)"
   ]
  },
  {
   "cell_type": "code",
   "execution_count": 112,
   "metadata": {},
   "outputs": [
    {
     "name": "stderr",
     "output_type": "stream",
     "text": [
      "D:\\Python\\lib\\site-packages\\ipykernel_launcher.py:1: SettingWithCopyWarning: \n",
      "A value is trying to be set on a copy of a slice from a DataFrame.\n",
      "Try using .loc[row_indexer,col_indexer] = value instead\n",
      "\n",
      "See the caveats in the documentation: http://pandas.pydata.org/pandas-docs/stable/user_guide/indexing.html#returning-a-view-versus-a-copy\n",
      "  \"\"\"Entry point for launching an IPython kernel.\n"
     ]
    },
    {
     "data": {
      "text/html": [
       "<div>\n",
       "<style scoped>\n",
       "    .dataframe tbody tr th:only-of-type {\n",
       "        vertical-align: middle;\n",
       "    }\n",
       "\n",
       "    .dataframe tbody tr th {\n",
       "        vertical-align: top;\n",
       "    }\n",
       "\n",
       "    .dataframe thead tr th {\n",
       "        text-align: left;\n",
       "    }\n",
       "\n",
       "    .dataframe thead tr:last-of-type th {\n",
       "        text-align: right;\n",
       "    }\n",
       "</style>\n",
       "<table border=\"1\" class=\"dataframe\">\n",
       "  <thead>\n",
       "    <tr>\n",
       "      <th></th>\n",
       "      <th>median</th>\n",
       "      <th>mean</th>\n",
       "    </tr>\n",
       "    <tr>\n",
       "      <th></th>\n",
       "      <th>Rooftop Size</th>\n",
       "      <th>Rooftop Size</th>\n",
       "    </tr>\n",
       "    <tr>\n",
       "      <th>How much lead is interested for Solar Installation</th>\n",
       "      <th></th>\n",
       "      <th></th>\n",
       "    </tr>\n",
       "  </thead>\n",
       "  <tbody>\n",
       "    <tr>\n",
       "      <td>Least Likely ( Less than 40% )</td>\n",
       "      <td>2030</td>\n",
       "      <td>2030.000</td>\n",
       "    </tr>\n",
       "    <tr>\n",
       "      <td>Likely (Between 40% - 80% )</td>\n",
       "      <td>3315</td>\n",
       "      <td>3390.625</td>\n",
       "    </tr>\n",
       "    <tr>\n",
       "      <td>Most Likely ( More than 80% )</td>\n",
       "      <td>1565</td>\n",
       "      <td>1975.500</td>\n",
       "    </tr>\n",
       "  </tbody>\n",
       "</table>\n",
       "</div>"
      ],
      "text/plain": [
       "                                                         median         mean\n",
       "                                                   Rooftop Size Rooftop Size\n",
       "How much lead is interested for Solar Installation                          \n",
       "Least Likely ( Less than 40% )                             2030     2030.000\n",
       "Likely (Between 40% - 80% )                                3315     3390.625\n",
       "Most Likely ( More than 80% )                              1565     1975.500"
      ]
     },
     "execution_count": 112,
     "metadata": {},
     "output_type": "execute_result"
    }
   ],
   "source": [
    "sale2['Rooftop Size']= sale2['Rooftop Size'].astype(int)\n",
    "pd.pivot_table(sale2,index=['How much lead is interested for Solar Installation'],values='Rooftop Size',aggfunc= [np.median,np.mean])"
   ]
  },
  {
   "cell_type": "code",
   "execution_count": 113,
   "metadata": {},
   "outputs": [
    {
     "data": {
      "text/html": [
       "<div>\n",
       "<style scoped>\n",
       "    .dataframe tbody tr th:only-of-type {\n",
       "        vertical-align: middle;\n",
       "    }\n",
       "\n",
       "    .dataframe tbody tr th {\n",
       "        vertical-align: top;\n",
       "    }\n",
       "\n",
       "    .dataframe thead th {\n",
       "        text-align: right;\n",
       "    }\n",
       "</style>\n",
       "<table border=\"1\" class=\"dataframe\">\n",
       "  <thead>\n",
       "    <tr style=\"text-align: right;\">\n",
       "      <th>How much lead is interested for Solar Installation</th>\n",
       "      <th>Least Likely ( Less than 40% )</th>\n",
       "      <th>Likely (Between 40% - 80% )</th>\n",
       "      <th>Most Likely ( More than 80% )</th>\n",
       "      <th>All</th>\n",
       "    </tr>\n",
       "    <tr>\n",
       "      <th>Stories in the House</th>\n",
       "      <th></th>\n",
       "      <th></th>\n",
       "      <th></th>\n",
       "      <th></th>\n",
       "    </tr>\n",
       "  </thead>\n",
       "  <tbody>\n",
       "    <tr>\n",
       "      <td>Ground Floor</td>\n",
       "      <td>0</td>\n",
       "      <td>1</td>\n",
       "      <td>1</td>\n",
       "      <td>2</td>\n",
       "    </tr>\n",
       "    <tr>\n",
       "      <td>Ground Floor + 1</td>\n",
       "      <td>0</td>\n",
       "      <td>1</td>\n",
       "      <td>1</td>\n",
       "      <td>2</td>\n",
       "    </tr>\n",
       "    <tr>\n",
       "      <td>Ground Floor + 2</td>\n",
       "      <td>1</td>\n",
       "      <td>1</td>\n",
       "      <td>3</td>\n",
       "      <td>5</td>\n",
       "    </tr>\n",
       "    <tr>\n",
       "      <td>Ground Floor + 3</td>\n",
       "      <td>0</td>\n",
       "      <td>4</td>\n",
       "      <td>4</td>\n",
       "      <td>8</td>\n",
       "    </tr>\n",
       "    <tr>\n",
       "      <td>Ground Floor + 4</td>\n",
       "      <td>0</td>\n",
       "      <td>1</td>\n",
       "      <td>1</td>\n",
       "      <td>2</td>\n",
       "    </tr>\n",
       "    <tr>\n",
       "      <td>All</td>\n",
       "      <td>1</td>\n",
       "      <td>8</td>\n",
       "      <td>10</td>\n",
       "      <td>19</td>\n",
       "    </tr>\n",
       "  </tbody>\n",
       "</table>\n",
       "</div>"
      ],
      "text/plain": [
       "How much lead is interested for Solar Installation  Least Likely ( Less than 40% )  \\\n",
       "Stories in the House                                                                 \n",
       "Ground Floor                                                                     0   \n",
       "Ground Floor + 1                                                                 0   \n",
       "Ground Floor + 2                                                                 1   \n",
       "Ground Floor + 3                                                                 0   \n",
       "Ground Floor + 4                                                                 0   \n",
       "All                                                                              1   \n",
       "\n",
       "How much lead is interested for Solar Installation  Likely (Between 40% - 80% )  \\\n",
       "Stories in the House                                                              \n",
       "Ground Floor                                                                  1   \n",
       "Ground Floor + 1                                                              1   \n",
       "Ground Floor + 2                                                              1   \n",
       "Ground Floor + 3                                                              4   \n",
       "Ground Floor + 4                                                              1   \n",
       "All                                                                           8   \n",
       "\n",
       "How much lead is interested for Solar Installation  Most Likely ( More than 80% )  \\\n",
       "Stories in the House                                                                \n",
       "Ground Floor                                                                    1   \n",
       "Ground Floor + 1                                                                1   \n",
       "Ground Floor + 2                                                                3   \n",
       "Ground Floor + 3                                                                4   \n",
       "Ground Floor + 4                                                                1   \n",
       "All                                                                            10   \n",
       "\n",
       "How much lead is interested for Solar Installation  All  \n",
       "Stories in the House                                     \n",
       "Ground Floor                                          2  \n",
       "Ground Floor + 1                                      2  \n",
       "Ground Floor + 2                                      5  \n",
       "Ground Floor + 3                                      8  \n",
       "Ground Floor + 4                                      2  \n",
       "All                                                  19  "
      ]
     },
     "execution_count": 113,
     "metadata": {},
     "output_type": "execute_result"
    }
   ],
   "source": [
    "pd.crosstab(sale2['Stories in the House'],sale2['How much lead is interested for Solar Installation'],margins=True)"
   ]
  },
  {
   "cell_type": "code",
   "execution_count": 114,
   "metadata": {},
   "outputs": [
    {
     "data": {
      "text/html": [
       "<div>\n",
       "<style scoped>\n",
       "    .dataframe tbody tr th:only-of-type {\n",
       "        vertical-align: middle;\n",
       "    }\n",
       "\n",
       "    .dataframe tbody tr th {\n",
       "        vertical-align: top;\n",
       "    }\n",
       "\n",
       "    .dataframe thead th {\n",
       "        text-align: right;\n",
       "    }\n",
       "</style>\n",
       "<table border=\"1\" class=\"dataframe\">\n",
       "  <thead>\n",
       "    <tr style=\"text-align: right;\">\n",
       "      <th>How much lead is interested for Solar Installation</th>\n",
       "      <th>Least Likely ( Less than 40% )</th>\n",
       "      <th>Likely (Between 40% - 80% )</th>\n",
       "      <th>Most Likely ( More than 80% )</th>\n",
       "      <th>All</th>\n",
       "    </tr>\n",
       "    <tr>\n",
       "      <th>Quotation..?</th>\n",
       "      <th></th>\n",
       "      <th></th>\n",
       "      <th></th>\n",
       "      <th></th>\n",
       "    </tr>\n",
       "  </thead>\n",
       "  <tbody>\n",
       "    <tr>\n",
       "      <td>Excluding GST</td>\n",
       "      <td>1</td>\n",
       "      <td>4</td>\n",
       "      <td>3</td>\n",
       "      <td>8</td>\n",
       "    </tr>\n",
       "    <tr>\n",
       "      <td>Including GST</td>\n",
       "      <td>0</td>\n",
       "      <td>4</td>\n",
       "      <td>7</td>\n",
       "      <td>11</td>\n",
       "    </tr>\n",
       "    <tr>\n",
       "      <td>All</td>\n",
       "      <td>1</td>\n",
       "      <td>8</td>\n",
       "      <td>10</td>\n",
       "      <td>19</td>\n",
       "    </tr>\n",
       "  </tbody>\n",
       "</table>\n",
       "</div>"
      ],
      "text/plain": [
       "How much lead is interested for Solar Installation  Least Likely ( Less than 40% )  \\\n",
       "Quotation..?                                                                         \n",
       "Excluding GST                                                                    1   \n",
       "Including GST                                                                    0   \n",
       "All                                                                              1   \n",
       "\n",
       "How much lead is interested for Solar Installation  Likely (Between 40% - 80% )  \\\n",
       "Quotation..?                                                                      \n",
       "Excluding GST                                                                 4   \n",
       "Including GST                                                                 4   \n",
       "All                                                                           8   \n",
       "\n",
       "How much lead is interested for Solar Installation  Most Likely ( More than 80% )  \\\n",
       "Quotation..?                                                                        \n",
       "Excluding GST                                                                   3   \n",
       "Including GST                                                                   7   \n",
       "All                                                                            10   \n",
       "\n",
       "How much lead is interested for Solar Installation  All  \n",
       "Quotation..?                                             \n",
       "Excluding GST                                         8  \n",
       "Including GST                                        11  \n",
       "All                                                  19  "
      ]
     },
     "execution_count": 114,
     "metadata": {},
     "output_type": "execute_result"
    }
   ],
   "source": [
    "pd.crosstab(sale2['Quotation..?'],sale2['How much lead is interested for Solar Installation'],margins=True)"
   ]
  },
  {
   "cell_type": "code",
   "execution_count": 115,
   "metadata": {},
   "outputs": [
    {
     "data": {
      "text/plain": [
       "<seaborn.axisgrid.FacetGrid at 0x2549e442608>"
      ]
     },
     "execution_count": 115,
     "metadata": {},
     "output_type": "execute_result"
    },
    {
     "data": {
      "image/png": "[encoded data removed]",
      "text/plain": [
       "<Figure size 360x360 with 1 Axes>"
      ]
     },
     "metadata": {
      "needs_background": "light"
     },
     "output_type": "display_data"
    }
   ],
   "source": [
    "sns.catplot(x='How much lead is interested for Solar Installation',y='Project Load Capacity',kind='strip',data=sale2)"
   ]
  },
  {
   "cell_type": "code",
   "execution_count": 116,
   "metadata": {},
   "outputs": [
    {
     "name": "stderr",
     "output_type": "stream",
     "text": [
      "D:\\Python\\lib\\site-packages\\ipykernel_launcher.py:1: SettingWithCopyWarning: \n",
      "A value is trying to be set on a copy of a slice from a DataFrame.\n",
      "Try using .loc[row_indexer,col_indexer] = value instead\n",
      "\n",
      "See the caveats in the documentation: http://pandas.pydata.org/pandas-docs/stable/user_guide/indexing.html#returning-a-view-versus-a-copy\n",
      "  \"\"\"Entry point for launching an IPython kernel.\n"
     ]
    },
    {
     "data": {
      "text/html": [
       "<div>\n",
       "<style scoped>\n",
       "    .dataframe tbody tr th:only-of-type {\n",
       "        vertical-align: middle;\n",
       "    }\n",
       "\n",
       "    .dataframe tbody tr th {\n",
       "        vertical-align: top;\n",
       "    }\n",
       "\n",
       "    .dataframe thead tr th {\n",
       "        text-align: left;\n",
       "    }\n",
       "\n",
       "    .dataframe thead tr:last-of-type th {\n",
       "        text-align: right;\n",
       "    }\n",
       "</style>\n",
       "<table border=\"1\" class=\"dataframe\">\n",
       "  <thead>\n",
       "    <tr>\n",
       "      <th></th>\n",
       "      <th>median</th>\n",
       "      <th>mean</th>\n",
       "    </tr>\n",
       "    <tr>\n",
       "      <th></th>\n",
       "      <th>Project Load Capacity</th>\n",
       "      <th>Project Load Capacity</th>\n",
       "    </tr>\n",
       "    <tr>\n",
       "      <th>How much lead is interested for Solar Installation</th>\n",
       "      <th></th>\n",
       "      <th></th>\n",
       "    </tr>\n",
       "  </thead>\n",
       "  <tbody>\n",
       "    <tr>\n",
       "      <td>Least Likely ( Less than 40% )</td>\n",
       "      <td>11.0</td>\n",
       "      <td>11.000</td>\n",
       "    </tr>\n",
       "    <tr>\n",
       "      <td>Likely (Between 40% - 80% )</td>\n",
       "      <td>5.5</td>\n",
       "      <td>6.375</td>\n",
       "    </tr>\n",
       "    <tr>\n",
       "      <td>Most Likely ( More than 80% )</td>\n",
       "      <td>7.0</td>\n",
       "      <td>10.800</td>\n",
       "    </tr>\n",
       "  </tbody>\n",
       "</table>\n",
       "</div>"
      ],
      "text/plain": [
       "                                                                  median  \\\n",
       "                                                   Project Load Capacity   \n",
       "How much lead is interested for Solar Installation                         \n",
       "Least Likely ( Less than 40% )                                      11.0   \n",
       "Likely (Between 40% - 80% )                                          5.5   \n",
       "Most Likely ( More than 80% )                                        7.0   \n",
       "\n",
       "                                                                    mean  \n",
       "                                                   Project Load Capacity  \n",
       "How much lead is interested for Solar Installation                        \n",
       "Least Likely ( Less than 40% )                                    11.000  \n",
       "Likely (Between 40% - 80% )                                        6.375  \n",
       "Most Likely ( More than 80% )                                     10.800  "
      ]
     },
     "execution_count": 116,
     "metadata": {},
     "output_type": "execute_result"
    }
   ],
   "source": [
    "sale2['Project Load Capacity']= sale2['Project Load Capacity'].astype(int)\n",
    "pd.pivot_table(sale2,index=['How much lead is interested for Solar Installation'],values='Project Load Capacity',aggfunc= [np.median,np.mean])"
   ]
  },
  {
   "cell_type": "code",
   "execution_count": 119,
   "metadata": {},
   "outputs": [],
   "source": [
    "sale2.reset_index(inplace=True)"
   ]
  },
  {
   "cell_type": "code",
   "execution_count": 120,
   "metadata": {},
   "outputs": [],
   "source": [
    "for i in range(len(sale2['Quotation Proposed'])):\n",
    "    if sale2['Quotation Proposed'][i] < 100:\n",
    "        sale2.loc[i,'Quotation Proposed']= sale2['Quotation Proposed'][i]*10000\n",
    "        "
   ]
  },
  {
   "cell_type": "code",
   "execution_count": 122,
   "metadata": {},
   "outputs": [
    {
     "data": {
      "text/html": [
       "<div>\n",
       "<style scoped>\n",
       "    .dataframe tbody tr th:only-of-type {\n",
       "        vertical-align: middle;\n",
       "    }\n",
       "\n",
       "    .dataframe tbody tr th {\n",
       "        vertical-align: top;\n",
       "    }\n",
       "\n",
       "    .dataframe thead th {\n",
       "        text-align: right;\n",
       "    }\n",
       "</style>\n",
       "<table border=\"1\" class=\"dataframe\">\n",
       "  <thead>\n",
       "    <tr style=\"text-align: right;\">\n",
       "      <th></th>\n",
       "      <th>level_0</th>\n",
       "      <th>index</th>\n",
       "      <th>Timestamp</th>\n",
       "      <th>Select City</th>\n",
       "      <th>Meeting Date and Time</th>\n",
       "      <th>Lead Name</th>\n",
       "      <th>Lead Available</th>\n",
       "      <th>Meeting Re-schedule Date and Time</th>\n",
       "      <th>Lead Interested ...?</th>\n",
       "      <th>Source</th>\n",
       "      <th>...</th>\n",
       "      <th>Project Type</th>\n",
       "      <th>Project Load Capacity</th>\n",
       "      <th>Quotation Proposed</th>\n",
       "      <th>Quotation..?</th>\n",
       "      <th>Any Additional Commitment</th>\n",
       "      <th>Does Project Confirmed ?</th>\n",
       "      <th>Any follow-up required..?</th>\n",
       "      <th>Source</th>\n",
       "      <th>Reason for Denial</th>\n",
       "      <th>Please mention the highlights of the Meetings</th>\n",
       "    </tr>\n",
       "  </thead>\n",
       "  <tbody>\n",
       "    <tr>\n",
       "      <td>0</td>\n",
       "      <td>0</td>\n",
       "      <td>2</td>\n",
       "      <td>2019/11/01 3:58:57 PM GMT+5:30</td>\n",
       "      <td>Jaipur</td>\n",
       "      <td>2019-11-01 13:40:00</td>\n",
       "      <td>Nirmal mehta ji</td>\n",
       "      <td>Yes</td>\n",
       "      <td>NaN</td>\n",
       "      <td>Yes</td>\n",
       "      <td>NaN</td>\n",
       "      <td>...</td>\n",
       "      <td>On-Grid</td>\n",
       "      <td>11</td>\n",
       "      <td>450000</td>\n",
       "      <td>Excluding GST</td>\n",
       "      <td>NaN</td>\n",
       "      <td>NaN</td>\n",
       "      <td>NaN</td>\n",
       "      <td>NaN</td>\n",
       "      <td>NaN</td>\n",
       "      <td>Final meeting after subsidy confirm from rrecl</td>\n",
       "    </tr>\n",
       "    <tr>\n",
       "      <td>1</td>\n",
       "      <td>6</td>\n",
       "      <td>8</td>\n",
       "      <td>2019/11/13 8:40:19 PM GMT+5:30</td>\n",
       "      <td>Indore</td>\n",
       "      <td>2019-11-13 02:00:00</td>\n",
       "      <td>Gaurav baundi</td>\n",
       "      <td>Yes</td>\n",
       "      <td>2019-11-15 00:00:00</td>\n",
       "      <td>Yes</td>\n",
       "      <td>NaN</td>\n",
       "      <td>...</td>\n",
       "      <td>On-Grid</td>\n",
       "      <td>11</td>\n",
       "      <td>110000</td>\n",
       "      <td>Excluding GST</td>\n",
       "      <td>NaN</td>\n",
       "      <td>No</td>\n",
       "      <td>NaN</td>\n",
       "      <td>NaN</td>\n",
       "      <td>NaN</td>\n",
       "      <td>Need to approach after 2 days</td>\n",
       "    </tr>\n",
       "    <tr>\n",
       "      <td>2</td>\n",
       "      <td>7</td>\n",
       "      <td>9</td>\n",
       "      <td>2019/11/08 1:59:43 PM GMT+5:30</td>\n",
       "      <td>Jaipur</td>\n",
       "      <td>2019-11-06 19:08:00</td>\n",
       "      <td>Gitanjli hotel ramesh chand sharma</td>\n",
       "      <td>Yes</td>\n",
       "      <td>NaN</td>\n",
       "      <td>Yes</td>\n",
       "      <td>NaN</td>\n",
       "      <td>...</td>\n",
       "      <td>On-Grid</td>\n",
       "      <td>4</td>\n",
       "      <td>400000</td>\n",
       "      <td>Excluding GST</td>\n",
       "      <td>NaN</td>\n",
       "      <td>NaN</td>\n",
       "      <td>NaN</td>\n",
       "      <td>NaN</td>\n",
       "      <td>NaN</td>\n",
       "      <td>Solar very costly bu effective after some they...</td>\n",
       "    </tr>\n",
       "  </tbody>\n",
       "</table>\n",
       "<p>3 rows × 31 columns</p>\n",
       "</div>"
      ],
      "text/plain": [
       "   level_0  index                       Timestamp Select City  \\\n",
       "0        0      2  2019/11/01 3:58:57 PM GMT+5:30      Jaipur   \n",
       "1        6      8  2019/11/13 8:40:19 PM GMT+5:30      Indore   \n",
       "2        7      9  2019/11/08 1:59:43 PM GMT+5:30      Jaipur   \n",
       "\n",
       "  Meeting Date and Time                           Lead Name Lead Available  \\\n",
       "0   2019-11-01 13:40:00                     Nirmal mehta ji            Yes   \n",
       "1   2019-11-13 02:00:00                       Gaurav baundi            Yes   \n",
       "2   2019-11-06 19:08:00  Gitanjli hotel ramesh chand sharma            Yes   \n",
       "\n",
       "  Meeting Re-schedule Date and Time Lead Interested ...? Source  ...  \\\n",
       "0                               NaN                  Yes    NaN  ...   \n",
       "1               2019-11-15 00:00:00                  Yes    NaN  ...   \n",
       "2                               NaN                  Yes    NaN  ...   \n",
       "\n",
       "  Project Type Project Load Capacity  Quotation Proposed   Quotation..?  \\\n",
       "0      On-Grid                    11              450000  Excluding GST   \n",
       "1      On-Grid                    11              110000  Excluding GST   \n",
       "2      On-Grid                     4              400000  Excluding GST   \n",
       "\n",
       "  Any Additional Commitment  Does Project Confirmed ?  \\\n",
       "0                       NaN                       NaN   \n",
       "1                       NaN                        No   \n",
       "2                       NaN                       NaN   \n",
       "\n",
       "  Any follow-up required..? Source  Reason for Denial  \\\n",
       "0                       NaN    NaN                NaN   \n",
       "1                       NaN    NaN                NaN   \n",
       "2                       NaN    NaN                NaN   \n",
       "\n",
       "       Please mention the highlights of the Meetings  \n",
       "0     Final meeting after subsidy confirm from rrecl  \n",
       "1                     Need to approach after 2 days   \n",
       "2  Solar very costly bu effective after some they...  \n",
       "\n",
       "[3 rows x 31 columns]"
      ]
     },
     "execution_count": 122,
     "metadata": {},
     "output_type": "execute_result"
    }
   ],
   "source": [
    "sale2.head(3)"
   ]
  },
  {
   "cell_type": "code",
   "execution_count": 123,
   "metadata": {},
   "outputs": [
    {
     "data": {
      "text/plain": [
       "<seaborn.axisgrid.FacetGrid at 0x2549ece1148>"
      ]
     },
     "execution_count": 123,
     "metadata": {},
     "output_type": "execute_result"
    },
    {
     "data": {
      "image/png": "[encoded data removed]",
      "text/plain": [
       "<Figure size 360x360 with 1 Axes>"
      ]
     },
     "metadata": {
      "needs_background": "light"
     },
     "output_type": "display_data"
    }
   ],
   "source": [
    "sns.catplot(x='How much lead is interested for Solar Installation',y='Quotation Proposed',kind='strip',data=sale2)"
   ]
  },
  {
   "cell_type": "code",
   "execution_count": 124,
   "metadata": {},
   "outputs": [
    {
     "name": "stderr",
     "output_type": "stream",
     "text": [
      "D:\\Python\\lib\\site-packages\\ipykernel_launcher.py:1: SettingWithCopyWarning: \n",
      "A value is trying to be set on a copy of a slice from a DataFrame.\n",
      "Try using .loc[row_indexer,col_indexer] = value instead\n",
      "\n",
      "See the caveats in the documentation: http://pandas.pydata.org/pandas-docs/stable/user_guide/indexing.html#returning-a-view-versus-a-copy\n",
      "  \"\"\"Entry point for launching an IPython kernel.\n"
     ]
    },
    {
     "data": {
      "text/html": [
       "<div>\n",
       "<style scoped>\n",
       "    .dataframe tbody tr th:only-of-type {\n",
       "        vertical-align: middle;\n",
       "    }\n",
       "\n",
       "    .dataframe tbody tr th {\n",
       "        vertical-align: top;\n",
       "    }\n",
       "\n",
       "    .dataframe thead tr th {\n",
       "        text-align: left;\n",
       "    }\n",
       "\n",
       "    .dataframe thead tr:last-of-type th {\n",
       "        text-align: right;\n",
       "    }\n",
       "</style>\n",
       "<table border=\"1\" class=\"dataframe\">\n",
       "  <thead>\n",
       "    <tr>\n",
       "      <th></th>\n",
       "      <th>median</th>\n",
       "      <th>mean</th>\n",
       "    </tr>\n",
       "    <tr>\n",
       "      <th></th>\n",
       "      <th>Quotation Proposed</th>\n",
       "      <th>Quotation Proposed</th>\n",
       "    </tr>\n",
       "    <tr>\n",
       "      <th>How much lead is interested for Solar Installation</th>\n",
       "      <th></th>\n",
       "      <th></th>\n",
       "    </tr>\n",
       "  </thead>\n",
       "  <tbody>\n",
       "    <tr>\n",
       "      <td>Least Likely ( Less than 40% )</td>\n",
       "      <td>450000</td>\n",
       "      <td>450000</td>\n",
       "    </tr>\n",
       "    <tr>\n",
       "      <td>Likely (Between 40% - 80% )</td>\n",
       "      <td>430000</td>\n",
       "      <td>370375</td>\n",
       "    </tr>\n",
       "    <tr>\n",
       "      <td>Most Likely ( More than 80% )</td>\n",
       "      <td>236500</td>\n",
       "      <td>302600</td>\n",
       "    </tr>\n",
       "  </tbody>\n",
       "</table>\n",
       "</div>"
      ],
      "text/plain": [
       "                                                               median  \\\n",
       "                                                   Quotation Proposed   \n",
       "How much lead is interested for Solar Installation                      \n",
       "Least Likely ( Less than 40% )                                 450000   \n",
       "Likely (Between 40% - 80% )                                    430000   \n",
       "Most Likely ( More than 80% )                                  236500   \n",
       "\n",
       "                                                                 mean  \n",
       "                                                   Quotation Proposed  \n",
       "How much lead is interested for Solar Installation                     \n",
       "Least Likely ( Less than 40% )                                 450000  \n",
       "Likely (Between 40% - 80% )                                    370375  \n",
       "Most Likely ( More than 80% )                                  302600  "
      ]
     },
     "execution_count": 124,
     "metadata": {},
     "output_type": "execute_result"
    }
   ],
   "source": [
    "sale2['Quotation Proposed']= sale2['Quotation Proposed'].astype(int)\n",
    "pd.pivot_table(sale2,index=['How much lead is interested for Solar Installation'],values='Quotation Proposed',aggfunc= [np.median,np.mean])"
   ]
  },
  {
   "cell_type": "code",
   "execution_count": 125,
   "metadata": {},
   "outputs": [],
   "source": [
    "# 6+, 15-30, 400000-, 8+"
   ]
  },
  {
   "cell_type": "code",
   "execution_count": 138,
   "metadata": {},
   "outputs": [],
   "source": [
    "sale1= sales.copy()"
   ]
  },
  {
   "cell_type": "code",
   "execution_count": 190,
   "metadata": {},
   "outputs": [],
   "source": [
    "for i in range(len(sale1['Source2'])):\n",
    "    if sale1['Source2'][i]=='nan':\n",
    "        sale1.loc[i,'Source2']= sale1['Source'][i]"
   ]
  },
  {
   "cell_type": "code",
   "execution_count": 192,
   "metadata": {},
   "outputs": [],
   "source": [
    "for i in range(len(sale1['Source2'])):\n",
    "    if sale1['Source2'][i]=='nan':\n",
    "        sale1.loc[i,'Source2']= sale1['Source3'][i]"
   ]
  },
  {
   "cell_type": "code",
   "execution_count": 176,
   "metadata": {},
   "outputs": [],
   "source": [
    "colnames= sale1.columns.values\n",
    "colnames[27]= 'Source3'\n",
    "sale1.columns= colnames"
   ]
  },
  {
   "cell_type": "code",
   "execution_count": 195,
   "metadata": {},
   "outputs": [],
   "source": [
    "sale11= sale1[sale1['Source2']!='nan']"
   ]
  },
  {
   "cell_type": "code",
   "execution_count": 196,
   "metadata": {},
   "outputs": [
    {
     "data": {
      "text/plain": [
       "0                                Local \n",
       "1           Peacock Solar Telemarketing\n",
       "4           Peacock Solar Telemarketing\n",
       "5           Peacock Solar Telemarketing\n",
       "6           Peacock Solar Telemarketing\n",
       "                     ...               \n",
       "112                        Self Calling\n",
       "113         Peacock Solar Telemarketing\n",
       "114                        Self calling\n",
       "117    Peacock Solar Employee Reference\n",
       "118    Peacock Solar Employee Reference\n",
       "Name: Source2, Length: 96, dtype: object"
      ]
     },
     "execution_count": 196,
     "metadata": {},
     "output_type": "execute_result"
    }
   ],
   "source": [
    "sale11['Source2']"
   ]
  },
  {
   "cell_type": "code",
   "execution_count": 198,
   "metadata": {},
   "outputs": [
    {
     "name": "stderr",
     "output_type": "stream",
     "text": [
      "D:\\Python\\lib\\site-packages\\ipykernel_launcher.py:1: SettingWithCopyWarning: \n",
      "A value is trying to be set on a copy of a slice from a DataFrame.\n",
      "Try using .loc[row_indexer,col_indexer] = value instead\n",
      "\n",
      "See the caveats in the documentation: http://pandas.pydata.org/pandas-docs/stable/user_guide/indexing.html#returning-a-view-versus-a-copy\n",
      "  \"\"\"Entry point for launching an IPython kernel.\n"
     ]
    }
   ],
   "source": [
    "sale11['Lead Interested ...?']= sale11['Lead Interested ...?'].replace('Yes, But Later', 'No')"
   ]
  },
  {
   "cell_type": "code",
   "execution_count": 199,
   "metadata": {},
   "outputs": [
    {
     "name": "stderr",
     "output_type": "stream",
     "text": [
      "D:\\Python\\lib\\site-packages\\ipykernel_launcher.py:1: SettingWithCopyWarning: \n",
      "A value is trying to be set on a copy of a slice from a DataFrame.\n",
      "Try using .loc[row_indexer,col_indexer] = value instead\n",
      "\n",
      "See the caveats in the documentation: http://pandas.pydata.org/pandas-docs/stable/user_guide/indexing.html#returning-a-view-versus-a-copy\n",
      "  \"\"\"Entry point for launching an IPython kernel.\n"
     ]
    },
    {
     "data": {
      "text/html": [
       "<div>\n",
       "<style scoped>\n",
       "    .dataframe tbody tr th:only-of-type {\n",
       "        vertical-align: middle;\n",
       "    }\n",
       "\n",
       "    .dataframe tbody tr th {\n",
       "        vertical-align: top;\n",
       "    }\n",
       "\n",
       "    .dataframe thead th {\n",
       "        text-align: right;\n",
       "    }\n",
       "</style>\n",
       "<table border=\"1\" class=\"dataframe\">\n",
       "  <thead>\n",
       "    <tr style=\"text-align: right;\">\n",
       "      <th></th>\n",
       "      <th>Lead Interested ...?</th>\n",
       "    </tr>\n",
       "    <tr>\n",
       "      <th>Source2</th>\n",
       "      <th></th>\n",
       "    </tr>\n",
       "  </thead>\n",
       "  <tbody>\n",
       "    <tr>\n",
       "      <td>2field</td>\n",
       "      <td>0.000000</td>\n",
       "    </tr>\n",
       "    <tr>\n",
       "      <td>Field</td>\n",
       "      <td>0.076923</td>\n",
       "    </tr>\n",
       "    <tr>\n",
       "      <td>Homver city</td>\n",
       "      <td>1.000000</td>\n",
       "    </tr>\n",
       "    <tr>\n",
       "      <td>Local</td>\n",
       "      <td>1.000000</td>\n",
       "    </tr>\n",
       "    <tr>\n",
       "      <td>Peacock Solar Customer Reference</td>\n",
       "      <td>1.000000</td>\n",
       "    </tr>\n",
       "    <tr>\n",
       "      <td>Peacock Solar Employee Reference</td>\n",
       "      <td>0.142857</td>\n",
       "    </tr>\n",
       "    <tr>\n",
       "      <td>Peacock Solar Telemarketing</td>\n",
       "      <td>0.388889</td>\n",
       "    </tr>\n",
       "    <tr>\n",
       "      <td>Reference by client</td>\n",
       "      <td>0.000000</td>\n",
       "    </tr>\n",
       "    <tr>\n",
       "      <td>Self Calling</td>\n",
       "      <td>0.000000</td>\n",
       "    </tr>\n",
       "    <tr>\n",
       "      <td>Self calling</td>\n",
       "      <td>0.000000</td>\n",
       "    </tr>\n",
       "    <tr>\n",
       "      <td>Social Media</td>\n",
       "      <td>1.000000</td>\n",
       "    </tr>\n",
       "    <tr>\n",
       "      <td>field</td>\n",
       "      <td>0.000000</td>\n",
       "    </tr>\n",
       "  </tbody>\n",
       "</table>\n",
       "</div>"
      ],
      "text/plain": [
       "                                  Lead Interested ...?\n",
       "Source2                                               \n",
       "2field                                        0.000000\n",
       "Field                                         0.076923\n",
       "Homver city                                   1.000000\n",
       "Local                                         1.000000\n",
       "Peacock Solar Customer Reference              1.000000\n",
       "Peacock Solar Employee Reference              0.142857\n",
       "Peacock Solar Telemarketing                   0.388889\n",
       "Reference by client                           0.000000\n",
       "Self Calling                                  0.000000\n",
       "Self calling                                  0.000000\n",
       "Social Media                                  1.000000\n",
       "field                                         0.000000"
      ]
     },
     "execution_count": 199,
     "metadata": {},
     "output_type": "execute_result"
    }
   ],
   "source": [
    "sale11['Lead Interested ...?']= labelencoder.fit_transform(sale11['Lead Interested ...?'])\n",
    "pd.pivot_table(sale11,index=['Source2'],values='Lead Interested ...?')"
   ]
  },
  {
   "cell_type": "code",
   "execution_count": 200,
   "metadata": {},
   "outputs": [
    {
     "name": "stderr",
     "output_type": "stream",
     "text": [
      "D:\\Python\\lib\\site-packages\\ipykernel_launcher.py:2: SettingWithCopyWarning: \n",
      "A value is trying to be set on a copy of a slice from a DataFrame.\n",
      "Try using .loc[row_indexer,col_indexer] = value instead\n",
      "\n",
      "See the caveats in the documentation: http://pandas.pydata.org/pandas-docs/stable/user_guide/indexing.html#returning-a-view-versus-a-copy\n",
      "  \n"
     ]
    }
   ],
   "source": [
    "sale12= sale1[sale1['Source2']!='nan']\n",
    "sale12['Lead Interested ...?']= sale12['Lead Interested ...?'].replace('Yes, But Later', 'No')"
   ]
  },
  {
   "cell_type": "code",
   "execution_count": 201,
   "metadata": {},
   "outputs": [
    {
     "data": {
      "text/html": [
       "<div>\n",
       "<style scoped>\n",
       "    .dataframe tbody tr th:only-of-type {\n",
       "        vertical-align: middle;\n",
       "    }\n",
       "\n",
       "    .dataframe tbody tr th {\n",
       "        vertical-align: top;\n",
       "    }\n",
       "\n",
       "    .dataframe thead th {\n",
       "        text-align: right;\n",
       "    }\n",
       "</style>\n",
       "<table border=\"1\" class=\"dataframe\">\n",
       "  <thead>\n",
       "    <tr style=\"text-align: right;\">\n",
       "      <th>Lead Interested ...?</th>\n",
       "      <th>No</th>\n",
       "      <th>Yes</th>\n",
       "      <th>All</th>\n",
       "    </tr>\n",
       "    <tr>\n",
       "      <th>Source2</th>\n",
       "      <th></th>\n",
       "      <th></th>\n",
       "      <th></th>\n",
       "    </tr>\n",
       "  </thead>\n",
       "  <tbody>\n",
       "    <tr>\n",
       "      <td>2field</td>\n",
       "      <td>1</td>\n",
       "      <td>0</td>\n",
       "      <td>1</td>\n",
       "    </tr>\n",
       "    <tr>\n",
       "      <td>Field</td>\n",
       "      <td>24</td>\n",
       "      <td>2</td>\n",
       "      <td>26</td>\n",
       "    </tr>\n",
       "    <tr>\n",
       "      <td>Homver city</td>\n",
       "      <td>0</td>\n",
       "      <td>1</td>\n",
       "      <td>1</td>\n",
       "    </tr>\n",
       "    <tr>\n",
       "      <td>Local</td>\n",
       "      <td>0</td>\n",
       "      <td>1</td>\n",
       "      <td>1</td>\n",
       "    </tr>\n",
       "    <tr>\n",
       "      <td>Peacock Solar Customer Reference</td>\n",
       "      <td>0</td>\n",
       "      <td>1</td>\n",
       "      <td>1</td>\n",
       "    </tr>\n",
       "    <tr>\n",
       "      <td>Peacock Solar Employee Reference</td>\n",
       "      <td>36</td>\n",
       "      <td>6</td>\n",
       "      <td>42</td>\n",
       "    </tr>\n",
       "    <tr>\n",
       "      <td>Peacock Solar Telemarketing</td>\n",
       "      <td>11</td>\n",
       "      <td>7</td>\n",
       "      <td>18</td>\n",
       "    </tr>\n",
       "    <tr>\n",
       "      <td>Reference by client</td>\n",
       "      <td>1</td>\n",
       "      <td>0</td>\n",
       "      <td>1</td>\n",
       "    </tr>\n",
       "    <tr>\n",
       "      <td>Self Calling</td>\n",
       "      <td>1</td>\n",
       "      <td>0</td>\n",
       "      <td>1</td>\n",
       "    </tr>\n",
       "    <tr>\n",
       "      <td>Self calling</td>\n",
       "      <td>1</td>\n",
       "      <td>0</td>\n",
       "      <td>1</td>\n",
       "    </tr>\n",
       "    <tr>\n",
       "      <td>Social Media</td>\n",
       "      <td>0</td>\n",
       "      <td>1</td>\n",
       "      <td>1</td>\n",
       "    </tr>\n",
       "    <tr>\n",
       "      <td>field</td>\n",
       "      <td>2</td>\n",
       "      <td>0</td>\n",
       "      <td>2</td>\n",
       "    </tr>\n",
       "    <tr>\n",
       "      <td>All</td>\n",
       "      <td>77</td>\n",
       "      <td>19</td>\n",
       "      <td>96</td>\n",
       "    </tr>\n",
       "  </tbody>\n",
       "</table>\n",
       "</div>"
      ],
      "text/plain": [
       "Lead Interested ...?              No  Yes  All\n",
       "Source2                                       \n",
       "2field                             1    0    1\n",
       "Field                             24    2   26\n",
       "Homver city                        0    1    1\n",
       "Local                              0    1    1\n",
       "Peacock Solar Customer Reference   0    1    1\n",
       "Peacock Solar Employee Reference  36    6   42\n",
       "Peacock Solar Telemarketing       11    7   18\n",
       "Reference by client                1    0    1\n",
       "Self Calling                       1    0    1\n",
       "Self calling                       1    0    1\n",
       "Social Media                       0    1    1\n",
       "field                              2    0    2\n",
       "All                               77   19   96"
      ]
     },
     "execution_count": 201,
     "metadata": {},
     "output_type": "execute_result"
    }
   ],
   "source": [
    "pd.crosstab(sale12['Source2'],sale12['Lead Interested ...?'],margins=True)"
   ]
  },
  {
   "cell_type": "code",
   "execution_count": null,
   "metadata": {},
   "outputs": [],
   "source": []
  }
 ],
 "metadata": {
  "kernelspec": {
   "display_name": "Python 3",
   "language": "python",
   "name": "python3"
  },
  "language_info": {
   "codemirror_mode": {
    "name": "ipython",
    "version": 3
   },
   "file_extension": ".py",
   "mimetype": "text/x-python",
   "name": "python",
   "nbconvert_exporter": "python",
   "pygments_lexer": "ipython3",
   "version": "3.7.4"
  }
 },
 "nbformat": 4,
 "nbformat_minor": 2
}
