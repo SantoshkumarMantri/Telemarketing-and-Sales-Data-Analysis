{
 "cells": [
  {
   "cell_type": "code",
   "execution_count": 3,
   "metadata": {},
   "outputs": [],
   "source": [
    "import pandas as pd"
   ]
  },
  {
   "cell_type": "code",
   "execution_count": 4,
   "metadata": {},
   "outputs": [],
   "source": [
    "tele= pd.read_excel('D:\\Downloads\\Telemarketing.xlsx')"
   ]
  },
  {
   "cell_type": "code",
   "execution_count": 190,
   "metadata": {},
   "outputs": [
    {
     "data": {
      "text/html": [
       "<div>\n",
       "<style scoped>\n",
       "    .dataframe tbody tr th:only-of-type {\n",
       "        vertical-align: middle;\n",
       "    }\n",
       "\n",
       "    .dataframe tbody tr th {\n",
       "        vertical-align: top;\n",
       "    }\n",
       "\n",
       "    .dataframe thead th {\n",
       "        text-align: right;\n",
       "    }\n",
       "</style>\n",
       "<table border=\"1\" class=\"dataframe\">\n",
       "  <thead>\n",
       "    <tr style=\"text-align: right;\">\n",
       "      <th></th>\n",
       "      <th>Unnamed: 0</th>\n",
       "      <th>Unnamed: 1</th>\n",
       "      <th>Unnamed: 2</th>\n",
       "      <th>Unnamed: 3</th>\n",
       "      <th>Unnamed: 4</th>\n",
       "      <th>Unnamed: 5</th>\n",
       "      <th>Unnamed: 6</th>\n",
       "      <th>Unnamed: 7</th>\n",
       "      <th>Unnamed: 8</th>\n",
       "      <th>Unnamed: 9</th>\n",
       "      <th>Unnamed: 10</th>\n",
       "      <th>Unnamed: 11</th>\n",
       "    </tr>\n",
       "  </thead>\n",
       "  <tbody>\n",
       "    <tr>\n",
       "      <td>0</td>\n",
       "      <td>NaN</td>\n",
       "      <td>NaN</td>\n",
       "      <td>NaN</td>\n",
       "      <td>NaN</td>\n",
       "      <td>NaN</td>\n",
       "      <td>NaN</td>\n",
       "      <td>NaN</td>\n",
       "      <td>NaN</td>\n",
       "      <td>NaN</td>\n",
       "      <td>NaN</td>\n",
       "      <td>NaN</td>\n",
       "      <td>NaN</td>\n",
       "    </tr>\n",
       "    <tr>\n",
       "      <td>1</td>\n",
       "      <td>Timestamp</td>\n",
       "      <td>Lead Name</td>\n",
       "      <td>Lead Validation</td>\n",
       "      <td>Calling Date &amp; Time</td>\n",
       "      <td>Picked the phone</td>\n",
       "      <td>Reason Why Phone is not picked</td>\n",
       "      <td>Email (Optional)</td>\n",
       "      <td>City</td>\n",
       "      <td>Lead Interested or Not</td>\n",
       "      <td>Insert Meeting Date &amp; Time Slot</td>\n",
       "      <td>Please state the major highlights of the call.</td>\n",
       "      <td>Select the Reason</td>\n",
       "    </tr>\n",
       "    <tr>\n",
       "      <td>2</td>\n",
       "      <td>2019/11/30 11:59:05 AM GMT+5:30</td>\n",
       "      <td>Naveen Garg</td>\n",
       "      <td>Valid Contact</td>\n",
       "      <td>2019-11-30 10:20:00</td>\n",
       "      <td>Yes</td>\n",
       "      <td>NaN</td>\n",
       "      <td>NaN</td>\n",
       "      <td>Kota</td>\n",
       "      <td>No</td>\n",
       "      <td>NaN</td>\n",
       "      <td>NaN</td>\n",
       "      <td>all read used solar</td>\n",
       "    </tr>\n",
       "  </tbody>\n",
       "</table>\n",
       "</div>"
      ],
      "text/plain": [
       "                        Unnamed: 0   Unnamed: 1       Unnamed: 2  \\\n",
       "0                              NaN          NaN              NaN   \n",
       "1                        Timestamp    Lead Name  Lead Validation   \n",
       "2  2019/11/30 11:59:05 AM GMT+5:30  Naveen Garg    Valid Contact   \n",
       "\n",
       "            Unnamed: 3        Unnamed: 4                      Unnamed: 5  \\\n",
       "0                  NaN               NaN                             NaN   \n",
       "1  Calling Date & Time  Picked the phone  Reason Why Phone is not picked   \n",
       "2  2019-11-30 10:20:00               Yes                             NaN   \n",
       "\n",
       "         Unnamed: 6 Unnamed: 7              Unnamed: 8  \\\n",
       "0               NaN        NaN                     NaN   \n",
       "1  Email (Optional)       City  Lead Interested or Not   \n",
       "2               NaN       Kota                      No   \n",
       "\n",
       "                        Unnamed: 9  \\\n",
       "0                              NaN   \n",
       "1  Insert Meeting Date & Time Slot   \n",
       "2                              NaN   \n",
       "\n",
       "                                      Unnamed: 10          Unnamed: 11  \n",
       "0                                             NaN                  NaN  \n",
       "1  Please state the major highlights of the call.    Select the Reason  \n",
       "2                                             NaN  all read used solar  "
      ]
     },
     "execution_count": 190,
     "metadata": {},
     "output_type": "execute_result"
    }
   ],
   "source": [
    "tele.head(3)"
   ]
  },
  {
   "cell_type": "code",
   "execution_count": 5,
   "metadata": {},
   "outputs": [],
   "source": [
    "tele.drop(tele.index[0],inplace=True)"
   ]
  },
  {
   "cell_type": "code",
   "execution_count": 6,
   "metadata": {},
   "outputs": [],
   "source": [
    "tele.columns = tele.iloc[0]\n",
    "tele.drop(tele.index[0],inplace=True)"
   ]
  },
  {
   "cell_type": "code",
   "execution_count": 7,
   "metadata": {},
   "outputs": [
    {
     "data": {
      "text/html": [
       "<div>\n",
       "<style scoped>\n",
       "    .dataframe tbody tr th:only-of-type {\n",
       "        vertical-align: middle;\n",
       "    }\n",
       "\n",
       "    .dataframe tbody tr th {\n",
       "        vertical-align: top;\n",
       "    }\n",
       "\n",
       "    .dataframe thead th {\n",
       "        text-align: right;\n",
       "    }\n",
       "</style>\n",
       "<table border=\"1\" class=\"dataframe\">\n",
       "  <thead>\n",
       "    <tr style=\"text-align: right;\">\n",
       "      <th>1</th>\n",
       "      <th>index</th>\n",
       "      <th>Timestamp</th>\n",
       "      <th>Lead Name</th>\n",
       "      <th>Lead Validation</th>\n",
       "      <th>Calling Date &amp; Time</th>\n",
       "      <th>Picked the phone</th>\n",
       "      <th>Reason Why Phone is not picked</th>\n",
       "      <th>Email (Optional)</th>\n",
       "      <th>City</th>\n",
       "      <th>Lead Interested or Not</th>\n",
       "      <th>Insert Meeting Date &amp; Time Slot</th>\n",
       "      <th>Please state the major highlights of the call.</th>\n",
       "      <th>Select the Reason</th>\n",
       "    </tr>\n",
       "  </thead>\n",
       "  <tbody>\n",
       "    <tr>\n",
       "      <td>0</td>\n",
       "      <td>2</td>\n",
       "      <td>2019/11/30 11:59:05 AM GMT+5:30</td>\n",
       "      <td>Naveen Garg</td>\n",
       "      <td>Valid Contact</td>\n",
       "      <td>2019-11-30 10:20:00</td>\n",
       "      <td>Yes</td>\n",
       "      <td>NaN</td>\n",
       "      <td>NaN</td>\n",
       "      <td>Kota</td>\n",
       "      <td>No</td>\n",
       "      <td>NaN</td>\n",
       "      <td>NaN</td>\n",
       "      <td>all read used solar</td>\n",
       "    </tr>\n",
       "    <tr>\n",
       "      <td>1</td>\n",
       "      <td>3</td>\n",
       "      <td>2019/11/23 7:33:23 PM GMT+5:30</td>\n",
       "      <td>Harish</td>\n",
       "      <td>Valid Contact</td>\n",
       "      <td>2019-11-23 12:10:00</td>\n",
       "      <td>Yes</td>\n",
       "      <td>NaN</td>\n",
       "      <td>NaN</td>\n",
       "      <td>Kota</td>\n",
       "      <td>No</td>\n",
       "      <td>NaN</td>\n",
       "      <td>NaN</td>\n",
       "      <td>all ready solar used</td>\n",
       "    </tr>\n",
       "    <tr>\n",
       "      <td>2</td>\n",
       "      <td>4</td>\n",
       "      <td>2019/11/11 4:27:04 PM GMT+5:30</td>\n",
       "      <td>Shubh Hospital</td>\n",
       "      <td>Valid Contact</td>\n",
       "      <td>2019-11-11 16:20:00</td>\n",
       "      <td>Yes</td>\n",
       "      <td>NaN</td>\n",
       "      <td>NaN</td>\n",
       "      <td>Jaipur</td>\n",
       "      <td>No</td>\n",
       "      <td>NaN</td>\n",
       "      <td>NaN</td>\n",
       "      <td>all ready used</td>\n",
       "    </tr>\n",
       "  </tbody>\n",
       "</table>\n",
       "</div>"
      ],
      "text/plain": [
       "1  index                        Timestamp        Lead Name Lead Validation  \\\n",
       "0      2  2019/11/30 11:59:05 AM GMT+5:30      Naveen Garg   Valid Contact   \n",
       "1      3   2019/11/23 7:33:23 PM GMT+5:30           Harish   Valid Contact   \n",
       "2      4   2019/11/11 4:27:04 PM GMT+5:30  Shubh Hospital    Valid Contact   \n",
       "\n",
       "1  Calling Date & Time Picked the phone Reason Why Phone is not picked  \\\n",
       "0  2019-11-30 10:20:00              Yes                            NaN   \n",
       "1  2019-11-23 12:10:00              Yes                            NaN   \n",
       "2  2019-11-11 16:20:00              Yes                            NaN   \n",
       "\n",
       "1 Email (Optional)    City Lead Interested or Not  \\\n",
       "0              NaN    Kota                     No   \n",
       "1              NaN    Kota                     No   \n",
       "2              NaN  Jaipur                     No   \n",
       "\n",
       "1 Insert Meeting Date & Time Slot  \\\n",
       "0                             NaN   \n",
       "1                             NaN   \n",
       "2                             NaN   \n",
       "\n",
       "1 Please state the major highlights of the call.     Select the Reason  \n",
       "0                                            NaN   all read used solar  \n",
       "1                                            NaN  all ready solar used  \n",
       "2                                            NaN        all ready used  "
      ]
     },
     "execution_count": 7,
     "metadata": {},
     "output_type": "execute_result"
    }
   ],
   "source": [
    "tele.reset_index(inplace=True)\n",
    "tele.head(3)"
   ]
  },
  {
   "cell_type": "code",
   "execution_count": 38,
   "metadata": {},
   "outputs": [
    {
     "data": {
      "text/plain": [
       "(1570, 13)"
      ]
     },
     "execution_count": 38,
     "metadata": {},
     "output_type": "execute_result"
    }
   ],
   "source": [
    "tele.shape"
   ]
  },
  {
   "cell_type": "code",
   "execution_count": 39,
   "metadata": {},
   "outputs": [
    {
     "data": {
      "text/plain": [
       "836"
      ]
     },
     "execution_count": 39,
     "metadata": {},
     "output_type": "execute_result"
    }
   ],
   "source": [
    "tele['Lead Interested or Not'].isna().sum()"
   ]
  },
  {
   "cell_type": "code",
   "execution_count": 40,
   "metadata": {},
   "outputs": [],
   "source": [
    "tele1= tele[tele['Lead Interested or Not'].notna()]"
   ]
  },
  {
   "cell_type": "code",
   "execution_count": 41,
   "metadata": {},
   "outputs": [
    {
     "data": {
      "text/plain": [
       "(734, 13)"
      ]
     },
     "execution_count": 41,
     "metadata": {},
     "output_type": "execute_result"
    }
   ],
   "source": [
    "tele1.shape"
   ]
  },
  {
   "cell_type": "code",
   "execution_count": 42,
   "metadata": {},
   "outputs": [],
   "source": [
    "from sklearn.preprocessing import LabelEncoder\n",
    "labelencoder= LabelEncoder()"
   ]
  },
  {
   "cell_type": "code",
   "execution_count": 44,
   "metadata": {},
   "outputs": [
    {
     "name": "stderr",
     "output_type": "stream",
     "text": [
      "D:\\Python\\lib\\site-packages\\ipykernel_launcher.py:1: SettingWithCopyWarning: \n",
      "A value is trying to be set on a copy of a slice from a DataFrame.\n",
      "Try using .loc[row_indexer,col_indexer] = value instead\n",
      "\n",
      "See the caveats in the documentation: http://pandas.pydata.org/pandas-docs/stable/user_guide/indexing.html#returning-a-view-versus-a-copy\n",
      "  \"\"\"Entry point for launching an IPython kernel.\n"
     ]
    }
   ],
   "source": [
    "tele1['Lead Interested or Not']= labelencoder.fit_transform(tele1['Lead Interested or Not'])"
   ]
  },
  {
   "cell_type": "code",
   "execution_count": 45,
   "metadata": {},
   "outputs": [
    {
     "data": {
      "text/html": [
       "<div>\n",
       "<style scoped>\n",
       "    .dataframe tbody tr th:only-of-type {\n",
       "        vertical-align: middle;\n",
       "    }\n",
       "\n",
       "    .dataframe tbody tr th {\n",
       "        vertical-align: top;\n",
       "    }\n",
       "\n",
       "    .dataframe thead th {\n",
       "        text-align: right;\n",
       "    }\n",
       "</style>\n",
       "<table border=\"1\" class=\"dataframe\">\n",
       "  <thead>\n",
       "    <tr style=\"text-align: right;\">\n",
       "      <th>1</th>\n",
       "      <th>Lead Interested or Not</th>\n",
       "    </tr>\n",
       "    <tr>\n",
       "      <th>City</th>\n",
       "      <th></th>\n",
       "    </tr>\n",
       "  </thead>\n",
       "  <tbody>\n",
       "    <tr>\n",
       "      <td>Indore</td>\n",
       "      <td>0.186667</td>\n",
       "    </tr>\n",
       "    <tr>\n",
       "      <td>Jaipur</td>\n",
       "      <td>0.048851</td>\n",
       "    </tr>\n",
       "    <tr>\n",
       "      <td>Kota</td>\n",
       "      <td>0.094340</td>\n",
       "    </tr>\n",
       "    <tr>\n",
       "      <td>Other</td>\n",
       "      <td>1.000000</td>\n",
       "    </tr>\n",
       "  </tbody>\n",
       "</table>\n",
       "</div>"
      ],
      "text/plain": [
       "1       Lead Interested or Not\n",
       "City                          \n",
       "Indore                0.186667\n",
       "Jaipur                0.048851\n",
       "Kota                  0.094340\n",
       "Other                 1.000000"
      ]
     },
     "execution_count": 45,
     "metadata": {},
     "output_type": "execute_result"
    }
   ],
   "source": [
    "pd.pivot_table(tele1,index=['City'],values='Lead Interested or Not')"
   ]
  },
  {
   "cell_type": "code",
   "execution_count": 46,
   "metadata": {},
   "outputs": [
    {
     "data": {
      "text/plain": [
       "53"
      ]
     },
     "execution_count": 46,
     "metadata": {},
     "output_type": "execute_result"
    }
   ],
   "source": [
    "tele['Picked the phone'].isna().sum()"
   ]
  },
  {
   "cell_type": "code",
   "execution_count": 54,
   "metadata": {},
   "outputs": [],
   "source": [
    "tele2= tele"
   ]
  },
  {
   "cell_type": "code",
   "execution_count": 59,
   "metadata": {},
   "outputs": [
    {
     "data": {
      "text/plain": [
       "count     1570\n",
       "unique       2\n",
       "top        Yes\n",
       "freq       953\n",
       "Name: Picked the phone, dtype: object"
      ]
     },
     "execution_count": 59,
     "metadata": {},
     "output_type": "execute_result"
    }
   ],
   "source": [
    "tele2['Picked the phone'].describe()"
   ]
  },
  {
   "cell_type": "code",
   "execution_count": 57,
   "metadata": {},
   "outputs": [],
   "source": [
    "tele2['Picked the phone']= tele2['Picked the phone'].replace('Yes, but mentioned to call later', 'Yes')"
   ]
  },
  {
   "cell_type": "code",
   "execution_count": 58,
   "metadata": {},
   "outputs": [],
   "source": [
    "tele2['Picked the phone'].fillna('No',inplace=True)"
   ]
  },
  {
   "cell_type": "code",
   "execution_count": 60,
   "metadata": {},
   "outputs": [],
   "source": [
    "tele2['Picked the phone'] = labelencoder.fit_transform(tele2['Picked the phone'])"
   ]
  },
  {
   "cell_type": "code",
   "execution_count": 62,
   "metadata": {},
   "outputs": [
    {
     "data": {
      "text/html": [
       "<div>\n",
       "<style scoped>\n",
       "    .dataframe tbody tr th:only-of-type {\n",
       "        vertical-align: middle;\n",
       "    }\n",
       "\n",
       "    .dataframe tbody tr th {\n",
       "        vertical-align: top;\n",
       "    }\n",
       "\n",
       "    .dataframe thead th {\n",
       "        text-align: right;\n",
       "    }\n",
       "</style>\n",
       "<table border=\"1\" class=\"dataframe\">\n",
       "  <thead>\n",
       "    <tr style=\"text-align: right;\">\n",
       "      <th>1</th>\n",
       "      <th>Picked the phone</th>\n",
       "    </tr>\n",
       "    <tr>\n",
       "      <th>City</th>\n",
       "      <th></th>\n",
       "    </tr>\n",
       "  </thead>\n",
       "  <tbody>\n",
       "    <tr>\n",
       "      <td>Indore</td>\n",
       "      <td>0.587800</td>\n",
       "    </tr>\n",
       "    <tr>\n",
       "      <td>Jaipur</td>\n",
       "      <td>0.631356</td>\n",
       "    </tr>\n",
       "    <tr>\n",
       "      <td>Kota</td>\n",
       "      <td>0.583072</td>\n",
       "    </tr>\n",
       "    <tr>\n",
       "      <td>Other</td>\n",
       "      <td>1.000000</td>\n",
       "    </tr>\n",
       "  </tbody>\n",
       "</table>\n",
       "</div>"
      ],
      "text/plain": [
       "1       Picked the phone\n",
       "City                    \n",
       "Indore          0.587800\n",
       "Jaipur          0.631356\n",
       "Kota            0.583072\n",
       "Other           1.000000"
      ]
     },
     "execution_count": 62,
     "metadata": {},
     "output_type": "execute_result"
    }
   ],
   "source": [
    "pd.pivot_table(tele2,index=['City'],values='Picked the phone')"
   ]
  },
  {
   "cell_type": "code",
   "execution_count": 9,
   "metadata": {},
   "outputs": [],
   "source": [
    "import re"
   ]
  },
  {
   "cell_type": "code",
   "execution_count": 108,
   "metadata": {},
   "outputs": [
    {
     "name": "stderr",
     "output_type": "stream",
     "text": [
      "D:\\Python\\lib\\site-packages\\ipykernel_launcher.py:3: SettingWithCopyWarning: \n",
      "A value is trying to be set on a copy of a slice from a DataFrame\n",
      "\n",
      "See the caveats in the documentation: http://pandas.pydata.org/pandas-docs/stable/user_guide/indexing.html#returning-a-view-versus-a-copy\n",
      "  This is separate from the ipykernel package so we can avoid doing imports until\n"
     ]
    }
   ],
   "source": [
    "for i in range(len(tele1['Lead Name'])):\n",
    "    if re.search('Hospital|chool|estaurant|ltd|bhawan|enterprise|fitness|Mugs|mandir|company|Garment|home|ducation|Hotel|Drunk|Desi|arden|esort|Associa|Sons|Ltd|Limited|Architect|pvt|engineering|elecom|Event|Hall|Paradise|Point|market|steel|mugs|palace|academy|Centre|Advocates|Public|Trade|Dhaba|Cafe|Park|International|Waffle|Heights|Marble|Construction|Studio|Hostel',tele1['Lead Name'][i]):\n",
    "        tele1['Lead Name'][i]= 'Organisation'"
   ]
  },
  {
   "cell_type": "code",
   "execution_count": 99,
   "metadata": {},
   "outputs": [
    {
     "name": "stderr",
     "output_type": "stream",
     "text": [
      "D:\\Python\\lib\\site-packages\\ipykernel_launcher.py:1: SettingWithCopyWarning: \n",
      "A value is trying to be set on a copy of a slice from a DataFrame.\n",
      "Try using .loc[row_indexer,col_indexer] = value instead\n",
      "\n",
      "See the caveats in the documentation: http://pandas.pydata.org/pandas-docs/stable/user_guide/indexing.html#returning-a-view-versus-a-copy\n",
      "  \"\"\"Entry point for launching an IPython kernel.\n"
     ]
    }
   ],
   "source": [
    "tele1['Lead Name']= tele11['Lead Name']"
   ]
  },
  {
   "cell_type": "code",
   "execution_count": 98,
   "metadata": {},
   "outputs": [],
   "source": [
    "tele11= tele[tele['Lead Interested or Not'].notna()]"
   ]
  },
  {
   "cell_type": "code",
   "execution_count": 112,
   "metadata": {},
   "outputs": [
    {
     "data": {
      "text/html": [
       "<div>\n",
       "<style scoped>\n",
       "    .dataframe tbody tr th:only-of-type {\n",
       "        vertical-align: middle;\n",
       "    }\n",
       "\n",
       "    .dataframe tbody tr th {\n",
       "        vertical-align: top;\n",
       "    }\n",
       "\n",
       "    .dataframe thead th {\n",
       "        text-align: right;\n",
       "    }\n",
       "</style>\n",
       "<table border=\"1\" class=\"dataframe\">\n",
       "  <thead>\n",
       "    <tr style=\"text-align: right;\">\n",
       "      <th>1</th>\n",
       "      <th>level_0</th>\n",
       "      <th>index</th>\n",
       "      <th>Timestamp</th>\n",
       "      <th>Lead Name</th>\n",
       "      <th>Lead Validation</th>\n",
       "      <th>Calling Date &amp; Time</th>\n",
       "      <th>Picked the phone</th>\n",
       "      <th>Reason Why Phone is not picked</th>\n",
       "      <th>Email (Optional)</th>\n",
       "      <th>City</th>\n",
       "      <th>Lead Interested or Not</th>\n",
       "      <th>Insert Meeting Date &amp; Time Slot</th>\n",
       "      <th>Please state the major highlights of the call.</th>\n",
       "      <th>Select the Reason</th>\n",
       "    </tr>\n",
       "  </thead>\n",
       "  <tbody>\n",
       "    <tr>\n",
       "      <td>0</td>\n",
       "      <td>0</td>\n",
       "      <td>2</td>\n",
       "      <td>2019/11/30 11:59:05 AM GMT+5:30</td>\n",
       "      <td>Person</td>\n",
       "      <td>Valid Contact</td>\n",
       "      <td>2019-11-30 10:20:00</td>\n",
       "      <td>Yes</td>\n",
       "      <td>NaN</td>\n",
       "      <td>NaN</td>\n",
       "      <td>Kota</td>\n",
       "      <td>0</td>\n",
       "      <td>NaN</td>\n",
       "      <td>NaN</td>\n",
       "      <td>all read used solar</td>\n",
       "    </tr>\n",
       "    <tr>\n",
       "      <td>1</td>\n",
       "      <td>1</td>\n",
       "      <td>3</td>\n",
       "      <td>2019/11/23 7:33:23 PM GMT+5:30</td>\n",
       "      <td>Person</td>\n",
       "      <td>Valid Contact</td>\n",
       "      <td>2019-11-23 12:10:00</td>\n",
       "      <td>Yes</td>\n",
       "      <td>NaN</td>\n",
       "      <td>NaN</td>\n",
       "      <td>Kota</td>\n",
       "      <td>0</td>\n",
       "      <td>NaN</td>\n",
       "      <td>NaN</td>\n",
       "      <td>all ready solar used</td>\n",
       "    </tr>\n",
       "    <tr>\n",
       "      <td>2</td>\n",
       "      <td>2</td>\n",
       "      <td>4</td>\n",
       "      <td>2019/11/11 4:27:04 PM GMT+5:30</td>\n",
       "      <td>Organisation</td>\n",
       "      <td>Valid Contact</td>\n",
       "      <td>2019-11-11 16:20:00</td>\n",
       "      <td>Yes</td>\n",
       "      <td>NaN</td>\n",
       "      <td>NaN</td>\n",
       "      <td>Jaipur</td>\n",
       "      <td>0</td>\n",
       "      <td>NaN</td>\n",
       "      <td>NaN</td>\n",
       "      <td>all ready used</td>\n",
       "    </tr>\n",
       "    <tr>\n",
       "      <td>3</td>\n",
       "      <td>3</td>\n",
       "      <td>5</td>\n",
       "      <td>2019/11/11 4:12:52 PM GMT+5:30</td>\n",
       "      <td>Organisation</td>\n",
       "      <td>Valid Contact</td>\n",
       "      <td>2019-11-11 15:24:00</td>\n",
       "      <td>Yes</td>\n",
       "      <td>NaN</td>\n",
       "      <td>NaN</td>\n",
       "      <td>Jaipur</td>\n",
       "      <td>0</td>\n",
       "      <td>NaN</td>\n",
       "      <td>NaN</td>\n",
       "      <td>all ready used solar</td>\n",
       "    </tr>\n",
       "    <tr>\n",
       "      <td>4</td>\n",
       "      <td>4</td>\n",
       "      <td>6</td>\n",
       "      <td>2019/11/11 4:25:38 PM GMT+5:30</td>\n",
       "      <td>Organisation</td>\n",
       "      <td>Valid Contact</td>\n",
       "      <td>2019-11-11 16:00:00</td>\n",
       "      <td>Yes</td>\n",
       "      <td>NaN</td>\n",
       "      <td>NaN</td>\n",
       "      <td>Jaipur</td>\n",
       "      <td>0</td>\n",
       "      <td>NaN</td>\n",
       "      <td>NaN</td>\n",
       "      <td>all ready used solar</td>\n",
       "    </tr>\n",
       "  </tbody>\n",
       "</table>\n",
       "</div>"
      ],
      "text/plain": [
       "1  level_0  index                        Timestamp     Lead Name  \\\n",
       "0        0      2  2019/11/30 11:59:05 AM GMT+5:30        Person   \n",
       "1        1      3   2019/11/23 7:33:23 PM GMT+5:30        Person   \n",
       "2        2      4   2019/11/11 4:27:04 PM GMT+5:30  Organisation   \n",
       "3        3      5   2019/11/11 4:12:52 PM GMT+5:30  Organisation   \n",
       "4        4      6   2019/11/11 4:25:38 PM GMT+5:30  Organisation   \n",
       "\n",
       "1 Lead Validation  Calling Date & Time Picked the phone  \\\n",
       "0   Valid Contact  2019-11-30 10:20:00              Yes   \n",
       "1   Valid Contact  2019-11-23 12:10:00              Yes   \n",
       "2   Valid Contact  2019-11-11 16:20:00              Yes   \n",
       "3   Valid Contact  2019-11-11 15:24:00              Yes   \n",
       "4   Valid Contact  2019-11-11 16:00:00              Yes   \n",
       "\n",
       "1 Reason Why Phone is not picked Email (Optional)    City  \\\n",
       "0                            NaN              NaN    Kota   \n",
       "1                            NaN              NaN    Kota   \n",
       "2                            NaN              NaN  Jaipur   \n",
       "3                            NaN              NaN  Jaipur   \n",
       "4                            NaN              NaN  Jaipur   \n",
       "\n",
       "1  Lead Interested or Not Insert Meeting Date & Time Slot  \\\n",
       "0                       0                             NaN   \n",
       "1                       0                             NaN   \n",
       "2                       0                             NaN   \n",
       "3                       0                             NaN   \n",
       "4                       0                             NaN   \n",
       "\n",
       "1 Please state the major highlights of the call.     Select the Reason  \n",
       "0                                            NaN   all read used solar  \n",
       "1                                            NaN  all ready solar used  \n",
       "2                                            NaN        all ready used  \n",
       "3                                            NaN  all ready used solar  \n",
       "4                                            NaN  all ready used solar  "
      ]
     },
     "execution_count": 112,
     "metadata": {},
     "output_type": "execute_result"
    }
   ],
   "source": [
    "#tele1.reset_index(inplace=True)\n",
    "tele1.head()"
   ]
  },
  {
   "cell_type": "code",
   "execution_count": 111,
   "metadata": {},
   "outputs": [
    {
     "name": "stderr",
     "output_type": "stream",
     "text": [
      "D:\\Python\\lib\\site-packages\\ipykernel_launcher.py:3: SettingWithCopyWarning: \n",
      "A value is trying to be set on a copy of a slice from a DataFrame\n",
      "\n",
      "See the caveats in the documentation: http://pandas.pydata.org/pandas-docs/stable/user_guide/indexing.html#returning-a-view-versus-a-copy\n",
      "  This is separate from the ipykernel package so we can avoid doing imports until\n"
     ]
    }
   ],
   "source": [
    "for i in range(len(tele1['Lead Name'])):\n",
    "    if re.search('^(?!Organisation).*',tele1['Lead Name'][i]):\n",
    "        tele1['Lead Name'][i]= 'Person'"
   ]
  },
  {
   "cell_type": "code",
   "execution_count": 113,
   "metadata": {},
   "outputs": [
    {
     "data": {
      "text/plain": [
       "count        734\n",
       "unique         2\n",
       "top       Person\n",
       "freq         652\n",
       "Name: Lead Name, dtype: object"
      ]
     },
     "execution_count": 113,
     "metadata": {},
     "output_type": "execute_result"
    }
   ],
   "source": [
    "tele1['Lead Name'].describe()"
   ]
  },
  {
   "cell_type": "code",
   "execution_count": 114,
   "metadata": {},
   "outputs": [
    {
     "data": {
      "text/html": [
       "<div>\n",
       "<style scoped>\n",
       "    .dataframe tbody tr th:only-of-type {\n",
       "        vertical-align: middle;\n",
       "    }\n",
       "\n",
       "    .dataframe tbody tr th {\n",
       "        vertical-align: top;\n",
       "    }\n",
       "\n",
       "    .dataframe thead th {\n",
       "        text-align: right;\n",
       "    }\n",
       "</style>\n",
       "<table border=\"1\" class=\"dataframe\">\n",
       "  <thead>\n",
       "    <tr style=\"text-align: right;\">\n",
       "      <th>1</th>\n",
       "      <th>Lead Interested or Not</th>\n",
       "    </tr>\n",
       "    <tr>\n",
       "      <th>Lead Name</th>\n",
       "      <th></th>\n",
       "    </tr>\n",
       "  </thead>\n",
       "  <tbody>\n",
       "    <tr>\n",
       "      <td>Organisation</td>\n",
       "      <td>0.158537</td>\n",
       "    </tr>\n",
       "    <tr>\n",
       "      <td>Person</td>\n",
       "      <td>0.096626</td>\n",
       "    </tr>\n",
       "  </tbody>\n",
       "</table>\n",
       "</div>"
      ],
      "text/plain": [
       "1             Lead Interested or Not\n",
       "Lead Name                           \n",
       "Organisation                0.158537\n",
       "Person                      0.096626"
      ]
     },
     "execution_count": 114,
     "metadata": {},
     "output_type": "execute_result"
    }
   ],
   "source": [
    "pd.pivot_table(tele1,index=['Lead Name'],values='Lead Interested or Not')"
   ]
  },
  {
   "cell_type": "code",
   "execution_count": 115,
   "metadata": {},
   "outputs": [],
   "source": [
    "tele1ind= tele1[tele1['City']=='Indore']"
   ]
  },
  {
   "cell_type": "code",
   "execution_count": 116,
   "metadata": {},
   "outputs": [
    {
     "data": {
      "text/html": [
       "<div>\n",
       "<style scoped>\n",
       "    .dataframe tbody tr th:only-of-type {\n",
       "        vertical-align: middle;\n",
       "    }\n",
       "\n",
       "    .dataframe tbody tr th {\n",
       "        vertical-align: top;\n",
       "    }\n",
       "\n",
       "    .dataframe thead th {\n",
       "        text-align: right;\n",
       "    }\n",
       "</style>\n",
       "<table border=\"1\" class=\"dataframe\">\n",
       "  <thead>\n",
       "    <tr style=\"text-align: right;\">\n",
       "      <th>1</th>\n",
       "      <th>Lead Interested or Not</th>\n",
       "    </tr>\n",
       "    <tr>\n",
       "      <th>Lead Name</th>\n",
       "      <th></th>\n",
       "    </tr>\n",
       "  </thead>\n",
       "  <tbody>\n",
       "    <tr>\n",
       "      <td>Organisation</td>\n",
       "      <td>0.218182</td>\n",
       "    </tr>\n",
       "    <tr>\n",
       "      <td>Person</td>\n",
       "      <td>0.176471</td>\n",
       "    </tr>\n",
       "  </tbody>\n",
       "</table>\n",
       "</div>"
      ],
      "text/plain": [
       "1             Lead Interested or Not\n",
       "Lead Name                           \n",
       "Organisation                0.218182\n",
       "Person                      0.176471"
      ]
     },
     "execution_count": 116,
     "metadata": {},
     "output_type": "execute_result"
    }
   ],
   "source": [
    "pd.pivot_table(tele1ind,index=['Lead Name'],values='Lead Interested or Not')"
   ]
  },
  {
   "cell_type": "code",
   "execution_count": 119,
   "metadata": {},
   "outputs": [],
   "source": [
    "telex= tele.copy()"
   ]
  },
  {
   "cell_type": "code",
   "execution_count": 123,
   "metadata": {},
   "outputs": [],
   "source": [
    "import datetime\n",
    "telex['Time'] = tele['Calling Date & Time'].dt.time"
   ]
  },
  {
   "cell_type": "code",
   "execution_count": 126,
   "metadata": {},
   "outputs": [
    {
     "data": {
      "text/html": [
       "<div>\n",
       "<style scoped>\n",
       "    .dataframe tbody tr th:only-of-type {\n",
       "        vertical-align: middle;\n",
       "    }\n",
       "\n",
       "    .dataframe tbody tr th {\n",
       "        vertical-align: top;\n",
       "    }\n",
       "\n",
       "    .dataframe thead th {\n",
       "        text-align: right;\n",
       "    }\n",
       "</style>\n",
       "<table border=\"1\" class=\"dataframe\">\n",
       "  <thead>\n",
       "    <tr style=\"text-align: right;\">\n",
       "      <th>1</th>\n",
       "      <th>index</th>\n",
       "      <th>Timestamp</th>\n",
       "      <th>Lead Name</th>\n",
       "      <th>Lead Validation</th>\n",
       "      <th>Calling Date &amp; Time</th>\n",
       "      <th>Picked the phone</th>\n",
       "      <th>Reason Why Phone is not picked</th>\n",
       "      <th>Email (Optional)</th>\n",
       "      <th>City</th>\n",
       "      <th>Lead Interested or Not</th>\n",
       "      <th>Insert Meeting Date &amp; Time Slot</th>\n",
       "      <th>Please state the major highlights of the call.</th>\n",
       "      <th>Select the Reason</th>\n",
       "      <th>Time</th>\n",
       "    </tr>\n",
       "  </thead>\n",
       "  <tbody>\n",
       "    <tr>\n",
       "      <td>0</td>\n",
       "      <td>2</td>\n",
       "      <td>2019/11/30 11:59:05 AM GMT+5:30</td>\n",
       "      <td>Naveen Garg</td>\n",
       "      <td>Valid Contact</td>\n",
       "      <td>2019-11-30 10:20:00</td>\n",
       "      <td>1</td>\n",
       "      <td>NaN</td>\n",
       "      <td>NaN</td>\n",
       "      <td>Kota</td>\n",
       "      <td>No</td>\n",
       "      <td>NaN</td>\n",
       "      <td>NaN</td>\n",
       "      <td>all read used solar</td>\n",
       "      <td>10:20:00</td>\n",
       "    </tr>\n",
       "    <tr>\n",
       "      <td>1</td>\n",
       "      <td>3</td>\n",
       "      <td>2019/11/23 7:33:23 PM GMT+5:30</td>\n",
       "      <td>Harish</td>\n",
       "      <td>Valid Contact</td>\n",
       "      <td>2019-11-23 12:10:00</td>\n",
       "      <td>1</td>\n",
       "      <td>NaN</td>\n",
       "      <td>NaN</td>\n",
       "      <td>Kota</td>\n",
       "      <td>No</td>\n",
       "      <td>NaN</td>\n",
       "      <td>NaN</td>\n",
       "      <td>all ready solar used</td>\n",
       "      <td>12:10:00</td>\n",
       "    </tr>\n",
       "  </tbody>\n",
       "</table>\n",
       "</div>"
      ],
      "text/plain": [
       "1  index                        Timestamp    Lead Name Lead Validation  \\\n",
       "0      2  2019/11/30 11:59:05 AM GMT+5:30  Naveen Garg   Valid Contact   \n",
       "1      3   2019/11/23 7:33:23 PM GMT+5:30       Harish   Valid Contact   \n",
       "\n",
       "1  Calling Date & Time  Picked the phone Reason Why Phone is not picked  \\\n",
       "0  2019-11-30 10:20:00                 1                            NaN   \n",
       "1  2019-11-23 12:10:00                 1                            NaN   \n",
       "\n",
       "1 Email (Optional)  City Lead Interested or Not  \\\n",
       "0              NaN  Kota                     No   \n",
       "1              NaN  Kota                     No   \n",
       "\n",
       "1 Insert Meeting Date & Time Slot  \\\n",
       "0                             NaN   \n",
       "1                             NaN   \n",
       "\n",
       "1 Please state the major highlights of the call.     Select the Reason  \\\n",
       "0                                            NaN   all read used solar   \n",
       "1                                            NaN  all ready solar used   \n",
       "\n",
       "1      Time  \n",
       "0  10:20:00  \n",
       "1  12:10:00  "
      ]
     },
     "execution_count": 126,
     "metadata": {},
     "output_type": "execute_result"
    }
   ],
   "source": [
    "telex.head(2)"
   ]
  },
  {
   "cell_type": "code",
   "execution_count": 174,
   "metadata": {},
   "outputs": [],
   "source": [
    "tele22= telex.copy()"
   ]
  },
  {
   "cell_type": "code",
   "execution_count": 175,
   "metadata": {},
   "outputs": [],
   "source": [
    "tele22['Picked the phone']= tele22['Picked the phone'].replace('Yes, but mentioned to call later', 'No')\n",
    "tele22['Picked the phone'].fillna('No',inplace=True)\n",
    "tele22['Picked the phone'] = labelencoder.fit_transform(tele22['Picked the phone'])"
   ]
  },
  {
   "cell_type": "code",
   "execution_count": 134,
   "metadata": {},
   "outputs": [
    {
     "data": {
      "text/plain": [
       "'10:20:00'"
      ]
     },
     "execution_count": 134,
     "metadata": {},
     "output_type": "execute_result"
    }
   ],
   "source": [
    "telex['Time']= telex['Calling Date & Time'].dt.strftime(\"%H:%M:%S\")\n",
    "telex['Time'][0]"
   ]
  },
  {
   "cell_type": "code",
   "execution_count": 176,
   "metadata": {},
   "outputs": [
    {
     "name": "stderr",
     "output_type": "stream",
     "text": [
      "D:\\Python\\lib\\site-packages\\ipykernel_launcher.py:3: SettingWithCopyWarning: \n",
      "A value is trying to be set on a copy of a slice from a DataFrame\n",
      "\n",
      "See the caveats in the documentation: http://pandas.pydata.org/pandas-docs/stable/user_guide/indexing.html#returning-a-view-versus-a-copy\n",
      "  This is separate from the ipykernel package so we can avoid doing imports until\n"
     ]
    }
   ],
   "source": [
    "for i in range(len(tele22['Time'])):\n",
    "    if re.search('\\A(10|11|12|13|14)',tele22['Time'][i]):\n",
    "        tele22['Time'][i]= 'Afternoon'"
   ]
  },
  {
   "cell_type": "code",
   "execution_count": 138,
   "metadata": {},
   "outputs": [
    {
     "data": {
      "text/html": [
       "<div>\n",
       "<style scoped>\n",
       "    .dataframe tbody tr th:only-of-type {\n",
       "        vertical-align: middle;\n",
       "    }\n",
       "\n",
       "    .dataframe tbody tr th {\n",
       "        vertical-align: top;\n",
       "    }\n",
       "\n",
       "    .dataframe thead th {\n",
       "        text-align: right;\n",
       "    }\n",
       "</style>\n",
       "<table border=\"1\" class=\"dataframe\">\n",
       "  <thead>\n",
       "    <tr style=\"text-align: right;\">\n",
       "      <th>1</th>\n",
       "      <th>index</th>\n",
       "      <th>Timestamp</th>\n",
       "      <th>Lead Name</th>\n",
       "      <th>Lead Validation</th>\n",
       "      <th>Calling Date &amp; Time</th>\n",
       "      <th>Picked the phone</th>\n",
       "      <th>Reason Why Phone is not picked</th>\n",
       "      <th>Email (Optional)</th>\n",
       "      <th>City</th>\n",
       "      <th>Lead Interested or Not</th>\n",
       "      <th>Insert Meeting Date &amp; Time Slot</th>\n",
       "      <th>Please state the major highlights of the call.</th>\n",
       "      <th>Select the Reason</th>\n",
       "      <th>Time</th>\n",
       "    </tr>\n",
       "  </thead>\n",
       "  <tbody>\n",
       "    <tr>\n",
       "      <td>0</td>\n",
       "      <td>2</td>\n",
       "      <td>2019/11/30 11:59:05 AM GMT+5:30</td>\n",
       "      <td>Naveen Garg</td>\n",
       "      <td>Valid Contact</td>\n",
       "      <td>2019-11-30 10:20:00</td>\n",
       "      <td>1</td>\n",
       "      <td>NaN</td>\n",
       "      <td>NaN</td>\n",
       "      <td>Kota</td>\n",
       "      <td>No</td>\n",
       "      <td>NaN</td>\n",
       "      <td>NaN</td>\n",
       "      <td>all read used solar</td>\n",
       "      <td>Morning</td>\n",
       "    </tr>\n",
       "    <tr>\n",
       "      <td>1</td>\n",
       "      <td>3</td>\n",
       "      <td>2019/11/23 7:33:23 PM GMT+5:30</td>\n",
       "      <td>Harish</td>\n",
       "      <td>Valid Contact</td>\n",
       "      <td>2019-11-23 12:10:00</td>\n",
       "      <td>1</td>\n",
       "      <td>NaN</td>\n",
       "      <td>NaN</td>\n",
       "      <td>Kota</td>\n",
       "      <td>No</td>\n",
       "      <td>NaN</td>\n",
       "      <td>NaN</td>\n",
       "      <td>all ready solar used</td>\n",
       "      <td>Morning</td>\n",
       "    </tr>\n",
       "  </tbody>\n",
       "</table>\n",
       "</div>"
      ],
      "text/plain": [
       "1  index                        Timestamp    Lead Name Lead Validation  \\\n",
       "0      2  2019/11/30 11:59:05 AM GMT+5:30  Naveen Garg   Valid Contact   \n",
       "1      3   2019/11/23 7:33:23 PM GMT+5:30       Harish   Valid Contact   \n",
       "\n",
       "1  Calling Date & Time  Picked the phone Reason Why Phone is not picked  \\\n",
       "0  2019-11-30 10:20:00                 1                            NaN   \n",
       "1  2019-11-23 12:10:00                 1                            NaN   \n",
       "\n",
       "1 Email (Optional)  City Lead Interested or Not  \\\n",
       "0              NaN  Kota                     No   \n",
       "1              NaN  Kota                     No   \n",
       "\n",
       "1 Insert Meeting Date & Time Slot  \\\n",
       "0                             NaN   \n",
       "1                             NaN   \n",
       "\n",
       "1 Please state the major highlights of the call.     Select the Reason  \\\n",
       "0                                            NaN   all read used solar   \n",
       "1                                            NaN  all ready solar used   \n",
       "\n",
       "1     Time  \n",
       "0  Morning  \n",
       "1  Morning  "
      ]
     },
     "execution_count": 138,
     "metadata": {},
     "output_type": "execute_result"
    }
   ],
   "source": [
    "tele22.head(2)"
   ]
  },
  {
   "cell_type": "code",
   "execution_count": 171,
   "metadata": {},
   "outputs": [
    {
     "name": "stderr",
     "output_type": "stream",
     "text": [
      "D:\\Python\\lib\\site-packages\\ipykernel_launcher.py:3: SettingWithCopyWarning: \n",
      "A value is trying to be set on a copy of a slice from a DataFrame\n",
      "\n",
      "See the caveats in the documentation: http://pandas.pydata.org/pandas-docs/stable/user_guide/indexing.html#returning-a-view-versus-a-copy\n",
      "  This is separate from the ipykernel package so we can avoid doing imports until\n"
     ]
    }
   ],
   "source": [
    "for i in range(len(tele22['Time'])):\n",
    "    if re.search('\\A14',tele22['Time'][i]):\n",
    "        tele22['Time'][i]= 'Afternoon'"
   ]
  },
  {
   "cell_type": "code",
   "execution_count": 177,
   "metadata": {},
   "outputs": [
    {
     "name": "stderr",
     "output_type": "stream",
     "text": [
      "D:\\Python\\lib\\site-packages\\ipykernel_launcher.py:3: SettingWithCopyWarning: \n",
      "A value is trying to be set on a copy of a slice from a DataFrame\n",
      "\n",
      "See the caveats in the documentation: http://pandas.pydata.org/pandas-docs/stable/user_guide/indexing.html#returning-a-view-versus-a-copy\n",
      "  This is separate from the ipykernel package so we can avoid doing imports until\n"
     ]
    }
   ],
   "source": [
    "for i in range(len(tele22['Time'])):\n",
    "    if re.search('\\A(15|16|17|18)',tele22['Time'][i]):\n",
    "        tele22['Time'][i]= 'Evening'"
   ]
  },
  {
   "cell_type": "code",
   "execution_count": 178,
   "metadata": {},
   "outputs": [
    {
     "name": "stderr",
     "output_type": "stream",
     "text": [
      "D:\\Python\\lib\\site-packages\\ipykernel_launcher.py:3: SettingWithCopyWarning: \n",
      "A value is trying to be set on a copy of a slice from a DataFrame\n",
      "\n",
      "See the caveats in the documentation: http://pandas.pydata.org/pandas-docs/stable/user_guide/indexing.html#returning-a-view-versus-a-copy\n",
      "  This is separate from the ipykernel package so we can avoid doing imports until\n"
     ]
    }
   ],
   "source": [
    "for i in range(len(tele22['Time'])):\n",
    "    if re.search('\\A(19|20|21|22|23|00|01|02|03|04)',tele22['Time'][i]):\n",
    "        tele22['Time'][i]= 'Night'"
   ]
  },
  {
   "cell_type": "code",
   "execution_count": 142,
   "metadata": {},
   "outputs": [],
   "source": [
    "for i in range(len(tele22['Time'])):\n",
    "    if re.search('\\A(05|06|07|08|09)',tele22['Time'][i]):\n",
    "        tele22['Time'][i]= 'Early Morning'"
   ]
  },
  {
   "cell_type": "code",
   "execution_count": 179,
   "metadata": {},
   "outputs": [
    {
     "data": {
      "text/html": [
       "<div>\n",
       "<style scoped>\n",
       "    .dataframe tbody tr th:only-of-type {\n",
       "        vertical-align: middle;\n",
       "    }\n",
       "\n",
       "    .dataframe tbody tr th {\n",
       "        vertical-align: top;\n",
       "    }\n",
       "\n",
       "    .dataframe thead th {\n",
       "        text-align: right;\n",
       "    }\n",
       "</style>\n",
       "<table border=\"1\" class=\"dataframe\">\n",
       "  <thead>\n",
       "    <tr style=\"text-align: right;\">\n",
       "      <th>1</th>\n",
       "      <th>Picked the phone</th>\n",
       "    </tr>\n",
       "    <tr>\n",
       "      <th>Time</th>\n",
       "      <th></th>\n",
       "    </tr>\n",
       "  </thead>\n",
       "  <tbody>\n",
       "    <tr>\n",
       "      <td>Afternoon</td>\n",
       "      <td>0.617261</td>\n",
       "    </tr>\n",
       "    <tr>\n",
       "      <td>Evening</td>\n",
       "      <td>0.657005</td>\n",
       "    </tr>\n",
       "    <tr>\n",
       "      <td>NaT</td>\n",
       "      <td>0.000000</td>\n",
       "    </tr>\n",
       "    <tr>\n",
       "      <td>Night</td>\n",
       "      <td>0.621622</td>\n",
       "    </tr>\n",
       "  </tbody>\n",
       "</table>\n",
       "</div>"
      ],
      "text/plain": [
       "1          Picked the phone\n",
       "Time                       \n",
       "Afternoon          0.617261\n",
       "Evening            0.657005\n",
       "NaT                0.000000\n",
       "Night              0.621622"
      ]
     },
     "execution_count": 179,
     "metadata": {},
     "output_type": "execute_result"
    }
   ],
   "source": [
    "pd.pivot_table(tele22,index=['Time'],values='Picked the phone')"
   ]
  },
  {
   "cell_type": "code",
   "execution_count": 180,
   "metadata": {},
   "outputs": [],
   "source": [
    "tele23= tele22.copy()"
   ]
  },
  {
   "cell_type": "code",
   "execution_count": 181,
   "metadata": {},
   "outputs": [],
   "source": [
    "tele23= tele23[tele23['Lead Interested or Not'].notna()]\n",
    "tele23['Lead Interested or Not']= labelencoder.fit_transform(tele23['Lead Interested or Not'])"
   ]
  },
  {
   "cell_type": "code",
   "execution_count": 182,
   "metadata": {},
   "outputs": [
    {
     "data": {
      "text/html": [
       "<div>\n",
       "<style scoped>\n",
       "    .dataframe tbody tr th:only-of-type {\n",
       "        vertical-align: middle;\n",
       "    }\n",
       "\n",
       "    .dataframe tbody tr th {\n",
       "        vertical-align: top;\n",
       "    }\n",
       "\n",
       "    .dataframe thead th {\n",
       "        text-align: right;\n",
       "    }\n",
       "</style>\n",
       "<table border=\"1\" class=\"dataframe\">\n",
       "  <thead>\n",
       "    <tr style=\"text-align: right;\">\n",
       "      <th>1</th>\n",
       "      <th>Lead Interested or Not</th>\n",
       "    </tr>\n",
       "    <tr>\n",
       "      <th>Time</th>\n",
       "      <th></th>\n",
       "    </tr>\n",
       "  </thead>\n",
       "  <tbody>\n",
       "    <tr>\n",
       "      <td>Afternoon</td>\n",
       "      <td>0.097701</td>\n",
       "    </tr>\n",
       "    <tr>\n",
       "      <td>Evening</td>\n",
       "      <td>0.121212</td>\n",
       "    </tr>\n",
       "    <tr>\n",
       "      <td>Night</td>\n",
       "      <td>0.071429</td>\n",
       "    </tr>\n",
       "  </tbody>\n",
       "</table>\n",
       "</div>"
      ],
      "text/plain": [
       "1          Lead Interested or Not\n",
       "Time                             \n",
       "Afternoon                0.097701\n",
       "Evening                  0.121212\n",
       "Night                    0.071429"
      ]
     },
     "execution_count": 182,
     "metadata": {},
     "output_type": "execute_result"
    }
   ],
   "source": [
    "pd.pivot_table(tele23,index=['Time'],values='Lead Interested or Not')"
   ]
  },
  {
   "cell_type": "code",
   "execution_count": 183,
   "metadata": {},
   "outputs": [
    {
     "data": {
      "text/plain": [
       "count                              658\n",
       "unique                              27\n",
       "top       Reason not given by Customer\n",
       "freq                               596\n",
       "Name: Select the Reason, dtype: object"
      ]
     },
     "execution_count": 183,
     "metadata": {},
     "output_type": "execute_result"
    }
   ],
   "source": [
    "tele['Select the Reason'].describe()"
   ]
  },
  {
   "cell_type": "code",
   "execution_count": 194,
   "metadata": {},
   "outputs": [
    {
     "name": "stderr",
     "output_type": "stream",
     "text": [
      "D:\\Python\\lib\\site-packages\\ipykernel_launcher.py:3: SettingWithCopyWarning: \n",
      "A value is trying to be set on a copy of a slice from a DataFrame\n",
      "\n",
      "See the caveats in the documentation: http://pandas.pydata.org/pandas-docs/stable/user_guide/indexing.html#returning-a-view-versus-a-copy\n",
      "  This is separate from the ipykernel package so we can avoid doing imports until\n"
     ]
    },
    {
     "ename": "TypeError",
     "evalue": "expected string or bytes-like object",
     "output_type": "error",
     "traceback": [
      "\u001b[1;31m---------------------------------------------------------------------------\u001b[0m",
      "\u001b[1;31mTypeError\u001b[0m                                 Traceback (most recent call last)",
      "\u001b[1;32m<ipython-input-194-af7486cbb976>\u001b[0m in \u001b[0;36m<module>\u001b[1;34m\u001b[0m\n\u001b[0;32m      1\u001b[0m \u001b[1;32mfor\u001b[0m \u001b[0mi\u001b[0m \u001b[1;32min\u001b[0m \u001b[0mrange\u001b[0m\u001b[1;33m(\u001b[0m\u001b[0mlen\u001b[0m\u001b[1;33m(\u001b[0m\u001b[0mtele\u001b[0m\u001b[1;33m[\u001b[0m\u001b[1;34m'Select the Reason'\u001b[0m\u001b[1;33m]\u001b[0m\u001b[1;33m)\u001b[0m\u001b[1;33m)\u001b[0m\u001b[1;33m:\u001b[0m\u001b[1;33m\u001b[0m\u001b[1;33m\u001b[0m\u001b[0m\n\u001b[1;32m----> 2\u001b[1;33m     \u001b[1;32mif\u001b[0m \u001b[0mre\u001b[0m\u001b[1;33m.\u001b[0m\u001b[0msearch\u001b[0m\u001b[1;33m(\u001b[0m\u001b[1;34m'read'\u001b[0m\u001b[1;33m,\u001b[0m\u001b[0mtele\u001b[0m\u001b[1;33m[\u001b[0m\u001b[1;34m'Select the Reason'\u001b[0m\u001b[1;33m]\u001b[0m\u001b[1;33m[\u001b[0m\u001b[0mi\u001b[0m\u001b[1;33m]\u001b[0m\u001b[1;33m)\u001b[0m\u001b[1;33m:\u001b[0m\u001b[1;33m\u001b[0m\u001b[1;33m\u001b[0m\u001b[0m\n\u001b[0m\u001b[0;32m      3\u001b[0m         \u001b[0mtele\u001b[0m\u001b[1;33m[\u001b[0m\u001b[1;34m'Select the Reason'\u001b[0m\u001b[1;33m]\u001b[0m\u001b[1;33m[\u001b[0m\u001b[0mi\u001b[0m\u001b[1;33m]\u001b[0m\u001b[1;33m=\u001b[0m \u001b[1;34m'already used solar'\u001b[0m\u001b[1;33m\u001b[0m\u001b[1;33m\u001b[0m\u001b[0m\n",
      "\u001b[1;32mD:\\Python\\lib\\re.py\u001b[0m in \u001b[0;36msearch\u001b[1;34m(pattern, string, flags)\u001b[0m\n\u001b[0;32m    181\u001b[0m     \"\"\"Scan through string looking for a match to the pattern, returning\n\u001b[0;32m    182\u001b[0m     a Match object, or None if no match was found.\"\"\"\n\u001b[1;32m--> 183\u001b[1;33m     \u001b[1;32mreturn\u001b[0m \u001b[0m_compile\u001b[0m\u001b[1;33m(\u001b[0m\u001b[0mpattern\u001b[0m\u001b[1;33m,\u001b[0m \u001b[0mflags\u001b[0m\u001b[1;33m)\u001b[0m\u001b[1;33m.\u001b[0m\u001b[0msearch\u001b[0m\u001b[1;33m(\u001b[0m\u001b[0mstring\u001b[0m\u001b[1;33m)\u001b[0m\u001b[1;33m\u001b[0m\u001b[1;33m\u001b[0m\u001b[0m\n\u001b[0m\u001b[0;32m    184\u001b[0m \u001b[1;33m\u001b[0m\u001b[0m\n\u001b[0;32m    185\u001b[0m \u001b[1;32mdef\u001b[0m \u001b[0msub\u001b[0m\u001b[1;33m(\u001b[0m\u001b[0mpattern\u001b[0m\u001b[1;33m,\u001b[0m \u001b[0mrepl\u001b[0m\u001b[1;33m,\u001b[0m \u001b[0mstring\u001b[0m\u001b[1;33m,\u001b[0m \u001b[0mcount\u001b[0m\u001b[1;33m=\u001b[0m\u001b[1;36m0\u001b[0m\u001b[1;33m,\u001b[0m \u001b[0mflags\u001b[0m\u001b[1;33m=\u001b[0m\u001b[1;36m0\u001b[0m\u001b[1;33m)\u001b[0m\u001b[1;33m:\u001b[0m\u001b[1;33m\u001b[0m\u001b[1;33m\u001b[0m\u001b[0m\n",
      "\u001b[1;31mTypeError\u001b[0m: expected string or bytes-like object"
     ]
    }
   ],
   "source": [
    "for i in range(len(tele['Select the Reason'])):\n",
    "    if re.search('read',tele['Select the Reason'][i]):\n",
    "        tele['Select the Reason'][i]= 'already used solar'"
   ]
  },
  {
   "cell_type": "code",
   "execution_count": 197,
   "metadata": {},
   "outputs": [
    {
     "name": "stderr",
     "output_type": "stream",
     "text": [
      "D:\\Python\\lib\\site-packages\\ipykernel_launcher.py:3: SettingWithCopyWarning: \n",
      "A value is trying to be set on a copy of a slice from a DataFrame\n",
      "\n",
      "See the caveats in the documentation: http://pandas.pydata.org/pandas-docs/stable/user_guide/indexing.html#returning-a-view-versus-a-copy\n",
      "  This is separate from the ipykernel package so we can avoid doing imports until\n"
     ]
    },
    {
     "ename": "TypeError",
     "evalue": "expected string or bytes-like object",
     "output_type": "error",
     "traceback": [
      "\u001b[1;31m---------------------------------------------------------------------------\u001b[0m",
      "\u001b[1;31mTypeError\u001b[0m                                 Traceback (most recent call last)",
      "\u001b[1;32m<ipython-input-197-e964e78ff1d4>\u001b[0m in \u001b[0;36m<module>\u001b[1;34m\u001b[0m\n\u001b[0;32m      1\u001b[0m \u001b[1;32mfor\u001b[0m \u001b[0mi\u001b[0m \u001b[1;32min\u001b[0m \u001b[0mrange\u001b[0m\u001b[1;33m(\u001b[0m\u001b[0mlen\u001b[0m\u001b[1;33m(\u001b[0m\u001b[0mtele\u001b[0m\u001b[1;33m[\u001b[0m\u001b[1;34m'Select the Reason'\u001b[0m\u001b[1;33m]\u001b[0m\u001b[1;33m)\u001b[0m\u001b[1;33m)\u001b[0m\u001b[1;33m:\u001b[0m\u001b[1;33m\u001b[0m\u001b[1;33m\u001b[0m\u001b[0m\n\u001b[1;32m----> 2\u001b[1;33m     \u001b[1;32mif\u001b[0m \u001b[0mre\u001b[0m\u001b[1;33m.\u001b[0m\u001b[0msearch\u001b[0m\u001b[1;33m(\u001b[0m\u001b[1;34m'rent|Rent'\u001b[0m\u001b[1;33m,\u001b[0m\u001b[0mtele\u001b[0m\u001b[1;33m[\u001b[0m\u001b[1;34m'Select the Reason'\u001b[0m\u001b[1;33m]\u001b[0m\u001b[1;33m[\u001b[0m\u001b[0mi\u001b[0m\u001b[1;33m]\u001b[0m\u001b[1;33m)\u001b[0m\u001b[1;33m:\u001b[0m\u001b[1;33m\u001b[0m\u001b[1;33m\u001b[0m\u001b[0m\n\u001b[0m\u001b[0;32m      3\u001b[0m         \u001b[0mtele\u001b[0m\u001b[1;33m[\u001b[0m\u001b[1;34m'Select the Reason'\u001b[0m\u001b[1;33m]\u001b[0m\u001b[1;33m[\u001b[0m\u001b[0mi\u001b[0m\u001b[1;33m]\u001b[0m\u001b[1;33m=\u001b[0m \u001b[1;34m'Rented house'\u001b[0m\u001b[1;33m\u001b[0m\u001b[1;33m\u001b[0m\u001b[0m\n",
      "\u001b[1;32mD:\\Python\\lib\\re.py\u001b[0m in \u001b[0;36msearch\u001b[1;34m(pattern, string, flags)\u001b[0m\n\u001b[0;32m    181\u001b[0m     \"\"\"Scan through string looking for a match to the pattern, returning\n\u001b[0;32m    182\u001b[0m     a Match object, or None if no match was found.\"\"\"\n\u001b[1;32m--> 183\u001b[1;33m     \u001b[1;32mreturn\u001b[0m \u001b[0m_compile\u001b[0m\u001b[1;33m(\u001b[0m\u001b[0mpattern\u001b[0m\u001b[1;33m,\u001b[0m \u001b[0mflags\u001b[0m\u001b[1;33m)\u001b[0m\u001b[1;33m.\u001b[0m\u001b[0msearch\u001b[0m\u001b[1;33m(\u001b[0m\u001b[0mstring\u001b[0m\u001b[1;33m)\u001b[0m\u001b[1;33m\u001b[0m\u001b[1;33m\u001b[0m\u001b[0m\n\u001b[0m\u001b[0;32m    184\u001b[0m \u001b[1;33m\u001b[0m\u001b[0m\n\u001b[0;32m    185\u001b[0m \u001b[1;32mdef\u001b[0m \u001b[0msub\u001b[0m\u001b[1;33m(\u001b[0m\u001b[0mpattern\u001b[0m\u001b[1;33m,\u001b[0m \u001b[0mrepl\u001b[0m\u001b[1;33m,\u001b[0m \u001b[0mstring\u001b[0m\u001b[1;33m,\u001b[0m \u001b[0mcount\u001b[0m\u001b[1;33m=\u001b[0m\u001b[1;36m0\u001b[0m\u001b[1;33m,\u001b[0m \u001b[0mflags\u001b[0m\u001b[1;33m=\u001b[0m\u001b[1;36m0\u001b[0m\u001b[1;33m)\u001b[0m\u001b[1;33m:\u001b[0m\u001b[1;33m\u001b[0m\u001b[1;33m\u001b[0m\u001b[0m\n",
      "\u001b[1;31mTypeError\u001b[0m: expected string or bytes-like object"
     ]
    }
   ],
   "source": [
    "for i in range(len(tele['Select the Reason'])):\n",
    "    if re.search('rent|Rent',tele['Select the Reason'][i]):\n",
    "        tele['Select the Reason'][i]= 'Rented house'"
   ]
  },
  {
   "cell_type": "code",
   "execution_count": 200,
   "metadata": {},
   "outputs": [],
   "source": [
    "tele1jai= tele1[tele1['City']=='Jaipur']\n",
    "tele1kota= tele1[tele1['City']=='Kota']"
   ]
  },
  {
   "cell_type": "code",
   "execution_count": 209,
   "metadata": {},
   "outputs": [],
   "source": [
    "tele1ind.reset_index(drop=True,inplace=True)\n",
    "tele1jai.reset_index(drop=True,inplace=True)\n",
    "tele1kota.reset_index(drop=True,inplace=True)"
   ]
  },
  {
   "cell_type": "code",
   "execution_count": 213,
   "metadata": {},
   "outputs": [],
   "source": [
    "a= len(tele1ind['City'])\n",
    "b= len(tele1jai['City'])\n",
    "c= len(tele1kota['City'])"
   ]
  },
  {
   "cell_type": "code",
   "execution_count": 215,
   "metadata": {},
   "outputs": [],
   "source": [
    "ind= tele1ind[tele1ind['Select the Reason'].notna()]\n",
    "jai= tele1jai[tele1jai['Select the Reason'].notna()]\n",
    "kot= tele1kota[tele1kota['Select the Reason'].notna()]"
   ]
  },
  {
   "cell_type": "code",
   "execution_count": 223,
   "metadata": {},
   "outputs": [
    {
     "name": "stdout",
     "output_type": "stream",
     "text": [
      "0.03111111111111111\n"
     ]
    }
   ],
   "source": [
    "p=0\n",
    "for i in range(len(ind['Select the Reason'])):\n",
    "    if re.search('Rent|rent',ind['Select the Reason'][i]):\n",
    "        p=p+1\n",
    "print(p/a)        "
   ]
  },
  {
   "cell_type": "code",
   "execution_count": 224,
   "metadata": {},
   "outputs": [
    {
     "name": "stdout",
     "output_type": "stream",
     "text": [
      "0.014367816091954023\n"
     ]
    }
   ],
   "source": [
    "p=0\n",
    "for i in range(len(jai['Select the Reason'])):\n",
    "    if re.search('Rent|rent',jai['Select the Reason'][i]):\n",
    "        p=p+1\n",
    "print(p/b) "
   ]
  },
  {
   "cell_type": "code",
   "execution_count": 225,
   "metadata": {},
   "outputs": [
    {
     "name": "stdout",
     "output_type": "stream",
     "text": [
      "0.012578616352201259\n"
     ]
    }
   ],
   "source": [
    "p=0\n",
    "for i in range(len(kot['Select the Reason'])):\n",
    "    if re.search('Rent|rent',kot['Select the Reason'][i]):\n",
    "        p=p+1\n",
    "print(p/c) "
   ]
  },
  {
   "cell_type": "code",
   "execution_count": 226,
   "metadata": {},
   "outputs": [
    {
     "name": "stdout",
     "output_type": "stream",
     "text": [
      "0.008888888888888889\n"
     ]
    }
   ],
   "source": [
    "p=0\n",
    "for i in range(len(ind['Select the Reason'])):\n",
    "    if re.search('read',ind['Select the Reason'][i]):\n",
    "        p=p+1\n",
    "print(p/a) "
   ]
  },
  {
   "cell_type": "code",
   "execution_count": 227,
   "metadata": {},
   "outputs": [
    {
     "name": "stdout",
     "output_type": "stream",
     "text": [
      "0.06222222222222222\n"
     ]
    }
   ],
   "source": [
    "p=0\n",
    "for i in range(len(jai['Select the Reason'])):\n",
    "    if re.search('read',jai['Select the Reason'][i]):\n",
    "        p=p+1\n",
    "print(p/a) "
   ]
  },
  {
   "cell_type": "code",
   "execution_count": 228,
   "metadata": {},
   "outputs": [
    {
     "name": "stdout",
     "output_type": "stream",
     "text": [
      "0.035555555555555556\n"
     ]
    }
   ],
   "source": [
    "p=0\n",
    "for i in range(len(kot['Select the Reason'])):\n",
    "    if re.search('read',kot['Select the Reason'][i]):\n",
    "        p=p+1\n",
    "print(p/a) "
   ]
  },
  {
   "cell_type": "code",
   "execution_count": null,
   "metadata": {},
   "outputs": [],
   "source": []
  }
 ],
 "metadata": {
  "kernelspec": {
   "display_name": "Python 3",
   "language": "python",
   "name": "python3"
  },
  "language_info": {
   "codemirror_mode": {
    "name": "ipython",
    "version": 3
   },
   "file_extension": ".py",
   "mimetype": "text/x-python",
   "name": "python",
   "nbconvert_exporter": "python",
   "pygments_lexer": "ipython3",
   "version": "3.7.4"
  }
 },
 "nbformat": 4,
 "nbformat_minor": 2
}
